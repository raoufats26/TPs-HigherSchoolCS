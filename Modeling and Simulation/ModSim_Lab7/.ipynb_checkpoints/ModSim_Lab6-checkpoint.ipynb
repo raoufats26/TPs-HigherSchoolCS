{
 "cells": [
  {
   "cell_type": "markdown",
   "metadata": {},
   "source": [
    "<figure>\n",
    "  <IMG src=\"figures/logo-esi-sba.png\" WIDTH=300 height=\"100\" ALIGN=\"right\">\n",
    "</figure>\n",
    "\n",
    "# Practical Trainining Series on Modeling And Simulation   \n",
    "*By Dr. Belkacem KHALDI (b.khaldi@esi-sba.dz)*"
   ]
  },
  {
   "cell_type": "markdown",
   "metadata": {},
   "source": [
    "## Notebook 6: Stochastic Processes and Markov-Chain\n",
    "In this Notebook you learn how to apply  Markov-Chain method to silmulate stochastic processes. \n",
    "\n",
    "### Stochastic Process:\n",
    "<ul>\n",
    "<li>A stochastic process is a process that changes in time with some kind of randomness.\n",
    "<li>  Formally, it is a family of random variables, $\\{X(t) : t \\in T\\}$, where $t$ usually denotes time. That is, at every time $t$ in the set $T$, a random number $X(t)$ is observed.\n",
    "\n",
    "</ul>\n",
    "\n",
    "### Markoc-Chain: \n",
    "<ul>\n",
    "<li>Markov Process is a stochastic process that satisfies the Markov property that is the future of a process does not depend on its past, only on its present:\n",
    "    $X_{t+1} \\text{ depends only on } X_t$.\n",
    "     <figure>\n",
    "  <IMG src=\"figures/ch6-markov-chain-graph.png\" WIDTH=300 height=\"300\" ALIGN=\"right\">\n",
    "</figure>\n",
    "<li> Formally:   $P(X_{t+1} = s|X_t = s_t,X_{t−1} = s_{t−1},...,X_0 = s_0) = P(X_{t+1} = s|X_t = s_t)$ ==> The probability that the system will be in state $s$ at time $t+1$ knowing all the history of the states' system depends only on the state $s_t$ of the system at time $t$.\n",
    "<li> A Markov-Chain Process is generally represented using a graph representation with graph nodes reprsent the states of the system and the links between the states represent the probability that the system will change from one state to another in a given time.\n",
    "<li> We can also summarize the Graph probabilities using the Transition Matrix:\n",
    "    $ \\mathcal{P}_{ij} = \\left( \\begin{matrix} p_{00} & p_{01} & 0 \\\\\n",
    "                                               p_{10} & p_{11} & p_{12} \\\\\n",
    "                                               p_{20} & p_{21} & p_{22}\n",
    "                                 \\end{matrix} \\right)$\n",
    "<li> Now to predict the probability of making a transition from state $S_i$ to state $S_j$ over $t$ steps?  I.e. what is $P(X_t=S_j|X_0=S_i)$, we apply the $t-$steps transitions theorem that is:\n",
    "$P(X_t =S_j|X_0 =S_i)= \\mathcal{P}^t_{ij}$.\n",
    "</ul>\n",
    "    \n",
    "#### Example: The Weather Status:\n",
    "We want to model the status of the weather observed each DAY. We suppose that in a given DAY, the status of the weather will be  SUNNY or RAINY. Therefore, the state space $S$ of this system is: $S=\\{'SUNNY', 'RAINY'\\}$, and we define $X(day_i) =\\{’Sunny’ or ’Rainy’\\}$ as Random Variables that varies with the $day_i$.\n",
    "<figure>\n",
    "  <IMG src=\"figures/ch6-markov-chain-wthr-exp.png\" WIDTH=380 height=\"300\" ALIGN=\"right\">\n",
    "</figure>\n",
    "<ul>\n",
    "<li>Given the graph reprsentation of this system and its probability transition matrix, predict the probability that the weather will be RAINY on day 3 knowing that it is SUNNY on day 1. \n",
    " $\\mathcal{P}_{ij} = \\left( \\begin{matrix} \n",
    "                             0.7 & 0.3 \\\\ \n",
    "                             0.6 & 0.4 \n",
    "                             \\end{matrix} \n",
    "                      \\right)$   \n",
    "\n",
    "\n",
    "  Solution:  $P(X_{day_3} =RAINY|X_{day_1} =SUNNY)= \\mathcal{P}^{2}_{SUNNY,RAINY}$\n",
    "    \n",
    " <figure>\n",
    "  <IMG src=\"figures/ch6-markov-property.png\" WIDTH=400 height=\"300\" ALIGN=\"right\">\n",
    "</figure>\n",
    "  \n",
    " <figure>\n",
    "  <IMG src=\"figures/t-step.png\" WIDTH=400 height=\"300\" ALIGN=\"right\">\n",
    "</figure>\n",
    "    \n",
    " $P(X_{day_3} =RAINY|X_{day_1} =SUNNY)= \\left( \n",
    "                                             \\begin{matrix} \n",
    "                                                 0.7 & 0.3 \\\\ \n",
    "                                                 . & . \n",
    "                                              \\end{matrix} \n",
    "                                           \\right)* \n",
    "                                         \\left( \n",
    "                                             \\begin{matrix} \n",
    "                                                 . & 0.3 \\\\ \n",
    "                                                 . & 0.4 \n",
    "                                              \\end{matrix} \n",
    "                                           \\right)=0.33$\n",
    "    \n",
    " \n",
    "  <li> Simularly, find all the probabilities of the weather status on day 3 given status on day 1.\n",
    "      Solution:\n",
    "      $\\mathcal{P}^{2}_{i,j}= \\left( \n",
    "                                  \\begin{matrix} \n",
    "                                      0.7 & 0.3 \\\\ \n",
    "                                      0.6 & 0.4 \n",
    "                                   \\end{matrix} \n",
    "                                \\right)* \n",
    "                                \\left( \n",
    "                                    \\begin{matrix} \n",
    "                                        0.7 & 0.3 \\\\ \n",
    "                                        0.6 & 0.4 \n",
    "                                     \\end{matrix} \n",
    "                                  \\right)=\n",
    "                                  \\left( \n",
    "                                      \\begin{matrix} \n",
    "                                           0.67 &0.33 \\\\\n",
    "                                            0.66 &0.34\n",
    "                                       \\end{matrix} \n",
    "                                    \\right)$    \n",
    "  <ul/>\n",
    "     \n",
    "     \n",
    "     \n",
    "     \n",
    "     \n",
    "     "
   ]
  },
  {
   "cell_type": "code",
   "execution_count": 15,
   "metadata": {},
   "outputs": [
    {
     "name": "stdout",
     "output_type": "stream",
     "text": [
      "Prediction of day 3 to be Rainy knowing that day 1 is sunny: 0.33\n",
      "2-step transitions Probability of the weather status in day 3 given its status in day 1:\n",
      "[[0.67 0.33]\n",
      " [0.66 0.34]]\n"
     ]
    }
   ],
   "source": [
    "%matplotlib inline\n",
    "import matplotlib.pyplot as plt\n",
    "import numpy as np\n",
    "\n",
    "#Transition Matrix\n",
    "P=np.array([[0.7, 0.3],\n",
    "           [0.6, 0.4]\n",
    "          ])\n",
    "#Compute the 2-step transition matrix P**2 using dot product\n",
    "twoStepTransionMatrix=np.dot(P,P)\n",
    "#Get the appropriet row and column: \n",
    "#Note that row_i=SUNNY (saved in the first row)\n",
    "#Note that column_j=RAINY (saved in the second column)\n",
    "prob=twoStepTransionMatrix[0,1]\n",
    "print(\"Prediction of day 3 to be Rainy knowing that day 1 is sunny: {:.2f}\".format(prob))\n",
    "print(\"2-step transitions Probability of the weather status in day 3 given its status in day 1:\")\n",
    "print(twoStepTransionMatrix)"
   ]
  },
  {
   "cell_type": "markdown",
   "metadata": {},
   "source": [
    "### Challenge 01:\n",
    "Change the codes above to estimate the mean value of a set of random variables that are generated from:\n",
    "<ol type = \"1\">\n",
    "         <li>Predict the probability that the weather will be SUNNY on day 3 knowing that it is SUNNY on day 1.   </li>\n",
    "         <li>Predict the probability that the weather will be RAINY on day 4 knowing that it is SUNNY on day 1.</li>  \n",
    "    <li>Predict the probability that the weather will be RAINY on day 5 knowing that it is SUNNY on day 3.</li>     \n",
    "</ol>\n",
    "\n",
    "\n",
    "\n",
    "\n"
   ]
  },
  {
   "cell_type": "code",
   "execution_count": null,
   "metadata": {},
   "outputs": [],
   "source": [
    "#your code here for the 1st prediction"
   ]
  },
  {
   "cell_type": "code",
   "execution_count": null,
   "metadata": {},
   "outputs": [],
   "source": [
    "#your code here for the 2nd prediction"
   ]
  },
  {
   "cell_type": "code",
   "execution_count": null,
   "metadata": {},
   "outputs": [],
   "source": [
    "#your code here for the 3rd prediction"
   ]
  },
  {
   "cell_type": "markdown",
   "metadata": {},
   "source": [
    "### Forcasting the Weather Status using Markoc-Chain: \n",
    "Let's now forecast the weateher status for a 365 days using a Markov-Chain model in python.\n",
    "\n"
   ]
  },
  {
   "cell_type": "code",
   "execution_count": 42,
   "metadata": {},
   "outputs": [
    {
     "name": "stdout",
     "output_type": "stream",
     "text": [
      "Starting weather:  Sunny\n"
     ]
    },
    {
     "data": {
      "text/plain": [
       "Text(0, 0.5, 'Weather Status')"
      ]
     },
     "execution_count": 42,
     "metadata": {},
     "output_type": "execute_result"
    },
    {
     "data": {
      "image/png": "[encoded data removed]",
      "text/plain": [
       "<Figure size 432x288 with 1 Axes>"
      ]
     },
     "metadata": {
      "needs_background": "light"
     },
     "output_type": "display_data"
    }
   ],
   "source": [
    "# A simple Markov chain model for the weather in Python\n",
    "\n",
    "import numpy as np\n",
    "import random as rm\n",
    "import time\n",
    "\n",
    "# Let's define the statespace\n",
    "states = [\"Sunny\",\"Rainy\"]\n",
    "\n",
    "# Possible sequences of events\n",
    "transitionName = [[\"SS\",\"SR\"],[\"RR\",\"RS\"]]\n",
    "\n",
    "# Probabilities matrix (transition matrix)\n",
    "transitionMatrix = np.array([[0.7, 0.3],\n",
    "                             [0.6, 0.4]\n",
    "                            ])\n",
    "\n",
    "# Check that probabilities add to 1. If not, raise ValueError\n",
    "if sum(transitionMatrix[0])+sum(transitionMatrix[1]) != 2:\n",
    "    print(\"Error!!!! Probabilities MUST ADD TO 1. Check transition matrix!!\")\n",
    "    raise ValueError(\"Probabilities MUST ADD TO 1\")\n",
    "\n",
    "\n",
    "# A functions which implements the Markov model to forecast the weather\n",
    "def weatherForecast(days):\n",
    "    # There is no reason to start from one state or another, let's just\n",
    "    # pick one randomly\n",
    "    result=[]\n",
    "    weatherToday = rm.choice(states)\n",
    "    i = 0\n",
    "    print(\"Starting weather: \",weatherToday)\n",
    "    while i < days:\n",
    "        if weatherToday == \"Sunny\":\n",
    "            change = np.random.choice(transitionName[0],replace=True,p=transitionMatrix[0])\n",
    "            if change == \"SS\":\n",
    "                pass\n",
    "            else:\n",
    "                weatherToday = \"Rainy\"\n",
    "        elif weatherToday == \"Rainy\":\n",
    "            change = np.random.choice(transitionName[1],replace=True,p=transitionMatrix[1])\n",
    "            if change == \"RR\":\n",
    "                pass\n",
    "            else:\n",
    "                weatherToday = \"Sunny\"\n",
    "        #print(weatherToday)\n",
    "        result.append(weatherToday)\n",
    "        i += 1\n",
    "        \n",
    "    return result\n",
    "        #time.sleep(0.2)\n",
    "\n",
    "# We forecast the weather for 100 days\n",
    "WeatherSates=weatherForecast(365)\n",
    "\n",
    "\n",
    "plt.plot(WeatherSates, color='g')\n",
    "plt.xlabel('Day')\n",
    "plt.ylabel('Weather Status')"
   ]
  },
  {
   "cell_type": "code",
   "execution_count": null,
   "metadata": {},
   "outputs": [],
   "source": []
  }
 ],
 "metadata": {
  "kernelspec": {
   "display_name": "Python 3",
   "language": "python",
   "name": "python3"
  },
  "language_info": {
   "codemirror_mode": {
    "name": "ipython",
    "version": 3
   },
   "file_extension": ".py",
   "mimetype": "text/x-python",
   "name": "python",
   "nbconvert_exporter": "python",
   "pygments_lexer": "ipython3",
   "version": "3.8.5"
  }
 },
 "nbformat": 4,
 "nbformat_minor": 4
}
