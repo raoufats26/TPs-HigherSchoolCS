{
 "cells": [
  {
   "cell_type": "markdown",
   "metadata": {},
   "source": [
    "<figure>\n",
    "  <IMG src=\"figures/logo-esi-sba.png\" WIDTH=300 height=\"100\" ALIGN=\"right\">\n",
    "</figure>\n",
    "\n",
    "# Practical Trainining Series on Modeling And Simulation   \n",
    "*By Dr. Belkacem KHALDI (b.khaldi@esi-sba.dz)*"
   ]
  },
  {
   "cell_type": "markdown",
   "metadata": {},
   "source": [
    "## Notebook 7: Modeling and Simulating Discrete-Event Systems\n",
    "<figure>\n",
    "  <IMG src=\"figures/ch7-des-fig1.png\" WIDTH=400 height=\"400\" ALIGN=\"right\">\n",
    "</figure>\n",
    "\n",
    "In this Notebook you learn how to model and simulate Discerte-Event systems using simpy python library.\n",
    "Discrete-Event Systems are a type of systems that are driven by discret-events. The state of such systems is changed whenever an event occures. The occurence of an event is mostely stochastic in time and therefore the  inter-arival events time is discret. \n",
    "\n",
    "### simpy\n",
    "SimPy is a discrete-event simulation library. The behavior of active components (like vehicles, customers or messages) is modeled with processes. All processes live in an environment. They interact with the environment and with each other via events.\n",
    "\n",
    " First of all we will need the simpy python library to simulate such systens    "
   ]
  },
  {
   "cell_type": "code",
   "execution_count": 1,
   "metadata": {},
   "outputs": [
    {
     "name": "stdout",
     "output_type": "stream",
     "text": [
      "Requirement already satisfied: simpy in /Users/macbook/opt/anaconda3/lib/python3.8/site-packages (4.0.1)\r\n"
     ]
    }
   ],
   "source": [
    "# Install a pip package in the current Jupyter kernel\n",
    "import sys\n",
    "!{sys.executable} -m pip install simpy\n",
    "import simpy"
   ]
  },
  {
   "cell_type": "markdown",
   "metadata": {},
   "source": [
    "### Our First Process\n",
    "Let's simulate our first example which will be about a Customer visiting a Bank. We assume that the Bank is always full of customers and when the visitor arrives, he will stay just 10 minites there and then leave the Bank without even being served. We assume also that our customer will frequently visit the Bank each 30 minutes and he will alternately arrive and leave for a while. When he arrives (or leaves) the Bank, we will print and save both the current sate and simulation time. So, the customer switches between the states arriving and departure."
   ]
  },
  {
   "cell_type": "code",
   "execution_count": 76,
   "metadata": {},
   "outputs": [
    {
     "name": "stdout",
     "output_type": "stream",
     "text": [
      "Mr. KHALDI Arrives at the Bank at 0\n",
      "Mr. KHALDI leaves the Bank at 10\n",
      "Mr. KHALDI Arrives at the Bank at 40\n",
      "Mr. KHALDI leaves the Bank at 50\n",
      "Mr. KHALDI Arrives at the Bank at 80\n",
      "Mr. KHALDI leaves the Bank at 90\n"
     ]
    },
    {
     "data": {
      "text/plain": [
       "Text(0, 0.5, 'State')"
      ]
     },
     "execution_count": 76,
     "metadata": {},
     "output_type": "execute_result"
    },
    {
     "data": {
      "image/png": "[encoded data removed]",
      "text/plain": [
       "<Figure size 432x288 with 1 Axes>"
      ]
     },
     "metadata": {
      "needs_background": "light"
     },
     "output_type": "display_data"
    }
   ],
   "source": [
    "import simpy\n",
    "import pandas as pd\n",
    "\n",
    "arriving_duration = 10\n",
    "departure_duration = 30\n",
    "simulation_time=120\n",
    "#A list for saving purposes\n",
    "events=[]\n",
    "#Define a customer process that requires a reference to an simpy.Environment (env) in order to create new events\n",
    "def Customer(env,name):\n",
    "    # To be runned in infinite loop. \n",
    "    while True:\n",
    "        #Announcing the arriving state by printing a message and the current simulation time\n",
    "        print('Mr. %s Arrives at the Bank at %d' % (name, env.now))\n",
    "        #save the actual time and state \n",
    "        events.append([env.now,'arriving'])\n",
    "        \n",
    "        \n",
    "        #Create a Timeout event and wait for the event to occur. in a given amount of time\n",
    "        yield env.timeout(arriving_duration)\n",
    "        \n",
    "        \n",
    "        #Announcing the departure state by printing a message and the current simulation time\n",
    "        print('Mr. %s leaves the Bank at %d' % (name, env.now))\n",
    "        #save the actual time and state \n",
    "        events.append([env.now,'departure'])\n",
    "        \n",
    "        #Create a Timeout event and wait for the event to occur. in a given amount of time\n",
    "        yield env.timeout(departure_duration)\n",
    "        \n",
    "        \n",
    "# create an instance of Simpy Environment. \n",
    "env = simpy.Environment()\n",
    "#Passing env into our customer process function. \n",
    "#Started a process and added to the environment\n",
    "\n",
    "env.process(Customer(env,'KHALDI'))\n",
    "#start the simulation by calling run() and passing an end time to it.\n",
    "env.run(until=simulation_time)\n",
    "\n",
    "#Create a dataframe from list events and plot\n",
    "df=pd.DataFrame(events, columns=['time','event'])\n",
    "plt.step(df['time'],df['event'])\n",
    "plt.xlabel('Time')\n",
    "plt.ylabel('State')"
   ]
  },
  {
   "cell_type": "markdown",
   "metadata": {},
   "source": [
    "### Challenge 1:\n",
    "Recretae the above scenario by assuming now that the arriving and departure duration are stochastic (random).\n",
    "#### Hint\n",
    "Use randint from the random import library"
   ]
  },
  {
   "cell_type": "code",
   "execution_count": null,
   "metadata": {},
   "outputs": [],
   "source": [
    "#your code here"
   ]
  },
  {
   "cell_type": "markdown",
   "metadata": {},
   "source": [
    "## Our Second Process\n",
    "Let's assume now that our Customer decides to wait for his service at the Bank. We assume that the Bank has one desk that serves all the cutomers with a Queue type notation (D/D/1). The arriver of a customer is set to be each 7 minutes and the time taken to serve a customer is set to be 5 minutes.\n",
    "### Hint:\n",
    "This system is of Queue Type Notation D/D/1 because:\n"
   ]
  },
  {
   "cell_type": "code",
   "execution_count": 255,
   "metadata": {},
   "outputs": [
    {
     "name": "stdout",
     "output_type": "stream",
     "text": [
      "Bank\n",
      "Customer 0 arrives at the Bank at 0.00.\n",
      "Customer 1 arrives at the Bank at 0.00.\n",
      "Customer 2 arrives at the Bank at 0.00.\n",
      "Customer 3 arrives at the Bank at 0.00.\n",
      "Customer 0 is being served 0.00.\n",
      "The Bank agent is serving 98% of Customer 0's service request.\n",
      "Customer 0 leaves the Bank at 5.00.\n",
      "Customer 1 is being served 5.00.\n",
      "Customer 4 arrives at the Bank at 10.00.\n",
      "The Bank agent is serving 97% of Customer 1's service request.\n",
      "Customer 1 leaves the Bank at 10.00.\n",
      "Customer 2 is being served 10.00.\n",
      "The Bank agent is serving 77% of Customer 2's service request.\n",
      "Customer 2 leaves the Bank at 15.00.\n",
      "Customer 3 is being served 15.00.\n",
      "Customer 5 arrives at the Bank at 20.00.\n",
      "The Bank agent is serving 76% of Customer 3's service request.\n",
      "Customer 3 leaves the Bank at 20.00.\n",
      "Customer 4 is being served 20.00.\n",
      "The Bank agent is serving 80% of Customer 4's service request.\n",
      "Customer 4 leaves the Bank at 25.00.\n",
      "Customer 5 is being served 25.00.\n",
      "Customer 6 arrives at the Bank at 30.00.\n",
      "The Bank agent is serving 84% of Customer 5's service request.\n",
      "Customer 5 leaves the Bank at 30.00.\n",
      "Customer 6 is being served 30.00.\n",
      "The Bank agent is serving 79% of Customer 6's service request.\n",
      "Customer 6 leaves the Bank at 35.00.\n",
      "Customer 7 arrives at the Bank at 40.00.\n",
      "Customer 7 is being served 40.00.\n"
     ]
    }
   ],
   "source": [
    "\"\"\"\n",
    "Bank example.\n",
    "\n",
    "Covers:\n",
    "\n",
    "- Waiting for other processes\n",
    "- Resources: Resource\n",
    "\n",
    "Scenario:\n",
    "  A Bank has a limited number of service desks and defines\n",
    "  a service processes that takes some (random) time.\n",
    "\n",
    "  Customer processes arrive at the Bank at a random time. If one Service\n",
    "  desk is available, they start serving the customer and wait for it\n",
    "  to finish. If not, they wait until they  use one.\n",
    "\n",
    "\"\"\"\n",
    "import numpy.random as rnd\n",
    "import simpy\n",
    "import pandas as pd\n",
    "\n",
    "\n",
    "RANDOM_SEED = 42\n",
    "NUM_DESKS = 1  # Number of service desks in the Bank\n",
    "SERVICETIME = 5      # Minutes it takes to serve a customer\n",
    "T_INTER = 10       # Create a customer every ~10 minutes\n",
    "SIM_TIME = 45     # Simulation time in minutes\n",
    "\n",
    "events=[]\n",
    "\n",
    "class Bank(object):\n",
    "    \"\"\"A Bank has a limited number of service desks (``NUM_DESKS``) to\n",
    "    serve customers in parallel.\n",
    "\n",
    "    Customers have to request one of the service desks. When they got one, they\n",
    "    be served and wait for the agent to finish their request which \n",
    "    takes ``SERVICETIME`` minutes).\n",
    "\n",
    "    \"\"\"\n",
    "    def __init__(self, env, num_desks, service_time):\n",
    "        self.env = env\n",
    "        self.desk = simpy.Resource(env, num_desks)\n",
    "        self.serviceTime = service_time\n",
    "\n",
    "    def service(self, customer):\n",
    "        \"\"\"The service processes. It takes a ``customer`` processes and tries\n",
    "        to serve it.\"\"\"\n",
    "        #SERVICETIME=rnd.exponential(scale=3)\n",
    "        \n",
    "        yield self.env.timeout(SERVICETIME)\n",
    "        print(\"The Bank agent is serving %d%% of %s's service request.\" %\n",
    "              (rnd.randint(75, 99), customer))\n",
    "        events.append([env.now,customer,'in service'])\n",
    "\n",
    "def customer(env, name, bk):\n",
    "    \"\"\"The customer process (each customer has a ``name``) arrives at the Bank\n",
    "    (``bk``) and requests a service desk.\n",
    "\n",
    "    It then  waits for the agent to finialize his request and\n",
    "    leaves to never come back ...\n",
    "\n",
    "    \"\"\"\n",
    "    print('%s arrives at the Bank at %.2f.' % (name, env.now))\n",
    "    events.append([env.now,name,'arriving'])\n",
    "    with bk.desk.request() as request:\n",
    "        #waiting for the customer's turn to be served\n",
    "        yield request\n",
    "        events.append([env.now,name,'waiting'])\n",
    "        print('%s is being served %.2f.' % (name, env.now))\n",
    "        \n",
    "        yield env.process(bk.service(name))\n",
    "        events.append([env.now, name,'departure'])\n",
    "        print('%s leaves the Bank at %.2f.' % (name, env.now))\n",
    "\n",
    "\n",
    "def setup(env, num_desks, service_time, t_inter):\n",
    "    \"\"\"Create a Bank, a number of initial customers and keep creating customers\n",
    "    approx. every ``t_inter`` minutes.\"\"\"\n",
    "    # Create the Bank\n",
    "    bk = Bank(env, num_desks, service_time)\n",
    "\n",
    "    #we assume that at the beginning the 4 customers are already in queue\n",
    "    for i in range(4):\n",
    "        env.process(customer(env, 'Customer %d' % i, bk))\n",
    "\n",
    "    # Create more customers while the simulation is running\n",
    "    #i=0\n",
    "    while True:\n",
    "        yield env.timeout(T_INTER)\n",
    "        i += 1\n",
    "        env.process(customer(env, 'Customer %d' % i, bk))\n",
    "\n",
    "\n",
    "# Setup and start the simulation\n",
    "print('Bank')\n",
    "\n",
    "\n",
    "# Create an environment and start the setup process\n",
    "env = simpy.Environment()\n",
    "env.process(setup(env, NUM_DESKS, SERVICETIME, T_INTER))\n",
    "\n",
    "# Execute!\n",
    "env.run(until=SIM_TIME)"
   ]
  },
  {
   "cell_type": "code",
   "execution_count": 256,
   "metadata": {},
   "outputs": [
    {
     "name": "stdout",
     "output_type": "stream",
     "text": [
      "average waiting time: 18.12 minutes.\n"
     ]
    },
    {
     "data": {
      "image/png": "[encoded data removed]",
      "text/plain": [
       "<Figure size 1080x720 with 8 Axes>"
      ]
     },
     "metadata": {
      "needs_background": "light"
     },
     "output_type": "display_data"
    }
   ],
   "source": [
    "df=pd.DataFrame(events, columns=['time','name','event'])\n",
    "\n",
    "fig, axs = plt.subplots(len(df['name'].drop_duplicates()),1,figsize=(15,10))\n",
    "for ax,c in zip(axs.flatten(),df['name'].drop_duplicates()):\n",
    "    df_c=df.loc[df['name'] == c]\n",
    "    \n",
    "    ax.step(df_c['time'],df_c['event'], label=c)\n",
    "    ax.set_xlabel('Time')\n",
    "    ax.set_ylabel('State')  \n",
    "    ax.set_xlim(0, 45)\n",
    "    ax.legend()\n",
    "\n",
    "#performance\n",
    "\n",
    "df_w=df.loc[df['event'] == 'waiting']\n",
    "print('average waiting time: %.2f minutes.' % df_w.mean())"
   ]
  },
  {
   "cell_type": "markdown",
   "metadata": {},
   "source": [
    "### Challenge 2: (D/D/n)\n",
    "\n",
    "Know assume that the Bank has more than one service desks. By modifying the code above, model and simulate a Bank queueing system with n=3 service desks."
   ]
  },
  {
   "cell_type": "code",
   "execution_count": null,
   "metadata": {},
   "outputs": [],
   "source": [
    "#your code here"
   ]
  },
  {
   "cell_type": "markdown",
   "metadata": {},
   "source": [
    "### Challenge 3: (M/M/1 and M/M/n)\n",
    "Know modify your code to model/simulate a Bank queueing system with the following queue type notation:\n",
    "<ol type=\"I\">\n",
    "  <li>M/M/1 with arriving rate $\\lambda=10$ and departure rate $\\mu=5$</li>\n",
    "  <li>M/M/3</li>\n",
    "</ol>\n",
    "Note that M/M/1 means both arriver and departure are Markovian (Exponential)\n",
    "\n",
    "#### Hint:\n",
    "The arriver and departure time is modeled using an exponential probability distribution. you can use either:\n",
    "<ol type=\"I\">\n",
    "  <li>numpy.random.exponential(scale=rate)</li>\n",
    "  <li>random.expovariate(1/rate)</li>\n",
    "</ol>"
   ]
  },
  {
   "cell_type": "code",
   "execution_count": null,
   "metadata": {},
   "outputs": [],
   "source": [
    "#your code here for M/M/1"
   ]
  },
  {
   "cell_type": "code",
   "execution_count": null,
   "metadata": {},
   "outputs": [],
   "source": [
    "#your code here for M/M/3"
   ]
  }
 ],
 "metadata": {
  "kernelspec": {
   "display_name": "Python 3",
   "language": "python",
   "name": "python3"
  },
  "language_info": {
   "codemirror_mode": {
    "name": "ipython",
    "version": 3
   },
   "file_extension": ".py",
   "mimetype": "text/x-python",
   "name": "python",
   "nbconvert_exporter": "python",
   "pygments_lexer": "ipython3",
   "version": "3.8.5"
  }
 },
 "nbformat": 4,
 "nbformat_minor": 4
}
