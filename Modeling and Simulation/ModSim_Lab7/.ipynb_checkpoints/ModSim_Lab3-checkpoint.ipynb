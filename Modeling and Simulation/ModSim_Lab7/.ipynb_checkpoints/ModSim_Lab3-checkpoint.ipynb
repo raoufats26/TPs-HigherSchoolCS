{
 "cells": [
  {
   "cell_type": "markdown",
   "metadata": {},
   "source": [
    "<figure>\n",
    "  <IMG src=\"figures/logo-esi-sba.png\" WIDTH=300 height=\"100\" ALIGN=\"right\">\n",
    "</figure>\n",
    "\n",
    "# Practical Trainining Series on Modeling And Simulation   \n",
    "*By Dr. Belkacem KHALDI (b.khaldi@esi-sba.dz)*"
   ]
  },
  {
   "cell_type": "markdown",
   "metadata": {},
   "source": [
    "## Notebook 3: Probabilities and Random Number Simulation\n",
    "In this Notebook you learn how to deal with Probabilities and Random Number Simulation. Many of the functions we will use are included in the `random` subpackage of `numpy`. We will import this package and call it `rnd` so that we don't have to type `np.random`. all the time."
   ]
  },
  {
   "cell_type": "code",
   "execution_count": 3,
   "metadata": {},
   "outputs": [],
   "source": [
    "%matplotlib inline\n",
    "import numpy as np\n",
    "import matplotlib.pyplot as plt\n",
    "import numpy.random as rnd"
   ]
  },
  {
   "cell_type": "markdown",
   "metadata": {},
   "source": [
    "### 1- Random Numbers Generation\n",
    "A random number generator lets you draw, at random, a number from a specified distribution. Several random number generators are included in the `random` subpackage of `numpy`.\n",
    "\n",
    "#### The random.random() function\n",
    " The `random.random()` function returns the next nearest  foating-point value from the generated sequence. All return values are enclosed between 0 and 1.0. Let's explore a practical example that uses this function:"
   ]
  },
  {
   "cell_type": "code",
   "execution_count": 2,
   "metadata": {
    "scrolled": true
   },
   "outputs": [
    {
     "name": "stdout",
     "output_type": "stream",
     "text": [
      "0.6530 0.7878 0.6877 0.4571 0.1886 0.0675 0.9915 0.3988 0.3094 0.1178 0.2303 0.8816 0.5320 0.0707 0.6351 0.7411 0.9790 0.2840 0.9259 0.8128 "
     ]
    }
   ],
   "source": [
    "for i in range(20):\n",
    "    print('%05.4f' % rnd.random(), end=' ')"
   ]
  },
  {
   "cell_type": "markdown",
   "metadata": {},
   "source": [
    "In the above example, 20 pseudorandom numbers are generated. Each number is printed in a format that includes 5 digits, including 4 decimal places.\n",
    "If we call the random() function again, we get a different sequence numbers:"
   ]
  },
  {
   "cell_type": "code",
   "execution_count": 3,
   "metadata": {},
   "outputs": [
    {
     "name": "stdout",
     "output_type": "stream",
     "text": [
      "0.1666 0.1908 0.1790 0.4484 0.8334 0.0818 0.5697 0.3094 0.4031 0.4365 0.5393 0.4586 0.9151 0.8104 0.0682 0.4550 0.9690 0.8819 0.6692 0.1407 "
     ]
    }
   ],
   "source": [
    "for i in range(20):\n",
    "    print('%05.4f' % rnd.random(), end=' ')"
   ]
  },
  {
   "cell_type": "markdown",
   "metadata": {},
   "source": [
    "#### The random.seed() function\n",
    "Internally, the random number generator starts with what is called a `seed`. The `seed` is a number and is generated automatically (and supposedly at random) when you call the random number generator. The value of the seed exactly defines the sequence of random numbers that you get. For example, let's set seed equal to 1:"
   ]
  },
  {
   "cell_type": "code",
   "execution_count": 4,
   "metadata": {},
   "outputs": [
    {
     "name": "stdout",
     "output_type": "stream",
     "text": [
      "0.4170 0.7203 0.0001 0.3023 0.1468 0.0923 0.1863 0.3456 0.3968 0.5388 0.4192 0.6852 0.2045 0.8781 0.0274 0.6705 0.4173 0.5587 0.1404 0.1981 "
     ]
    }
   ],
   "source": [
    "rnd.seed(1)\n",
    "for i in range(20):\n",
    "    print('%05.4f' % rnd.random(), end=' ')"
   ]
  },
  {
   "cell_type": "markdown",
   "metadata": {},
   "source": [
    "If we now specify the `seed` again as 1, the exact same sequence is generated again."
   ]
  },
  {
   "cell_type": "code",
   "execution_count": 5,
   "metadata": {},
   "outputs": [
    {
     "name": "stdout",
     "output_type": "stream",
     "text": [
      "0.4170 0.7203 0.0001 0.3023 0.1468 0.0923 0.1863 0.3456 0.3968 0.5388 0.4192 0.6852 0.2045 0.8781 0.0274 0.6705 0.4173 0.5587 0.1404 0.1981 "
     ]
    }
   ],
   "source": [
    "rnd.seed(1)\n",
    "for i in range(20):\n",
    "    print('%05.4f' % rnd.random(), end=' ')"
   ]
  },
  {
   "cell_type": "markdown",
   "metadata": {},
   "source": [
    "#### The random.uniform() function\n",
    "The `random.uniform()` function generates numbers within a defined numeric range. Let's look at an example:"
   ]
  },
  {
   "cell_type": "code",
   "execution_count": 6,
   "metadata": {},
   "outputs": [
    {
     "name": "stdout",
     "output_type": "stream",
     "text": [
      "80.2737 96.8579 32.0290 69.5399 87.7625 89.5661 9.4194 4.8664 17.8132 87.9361 10.7363 42.6897 95.8311 53.7834 69.4958 32.2360 68.9636 83.6279 2.8105 75.2643 "
     ]
    }
   ],
   "source": [
    "for i in range(20):\n",
    "    print('%6.4f' % rnd.uniform(1, 100), end=' ')"
   ]
  },
  {
   "cell_type": "markdown",
   "metadata": {},
   "source": [
    "In the above example, 20 random numbers are generated in the range of [1,100)\n",
    "\n",
    "#### The random.randint() function\n",
    "This function generates random integers.  The arguments for `randint()` are the values of the range, including the extremes.  The numbers may be negative or positive, but the  1st value should be less than the second. Let's look at an example:"
   ]
  },
  {
   "cell_type": "code",
   "execution_count": 7,
   "metadata": {},
   "outputs": [
    {
     "name": "stdout",
     "output_type": "stream",
     "text": [
      "-85 -36 96 -75 11 35 -74 53 4 -78 -91 95 26 -77 25 0 55 65 -43 -17 "
     ]
    }
   ],
   "source": [
    "for i in range(20):\n",
    "    print(rnd.randint(-100, 100), end=' ')"
   ]
  },
  {
   "cell_type": "markdown",
   "metadata": {},
   "source": [
    "In the above example, 20 random integer numbers are generated in the range of [-100,100]\n",
    "\n",
    "#### The random.choice() function\n",
    "A common use for random number generators is to select a random element from a sequence of enumerated values, even if these values are not numbers.  The `choice()` function returns a random element of the non-empty sequence passed as an argument. This function is suitable to use in extracting values from a predetermined list:"
   ]
  },
  {
   "cell_type": "code",
   "execution_count": 8,
   "metadata": {},
   "outputs": [
    {
     "name": "stdout",
     "output_type": "stream",
     "text": [
      "Randomly selected item from Cities list is -  Los Angeles\n",
      "Randomly selected item from Cities list is -  Madrid\n",
      "Randomly selected item from Cities list is -  Rome\n",
      "Randomly selected item from Cities list is -  Algiers\n",
      "Randomly selected item from Cities list is -  Toronto\n"
     ]
    }
   ],
   "source": [
    "CitiesList = ['Rome','New York','Algiers','London','Berlin','Moskov',\n",
    "'Los Angeles','Paris','Madrid','Tokio','Toronto']\n",
    "for i in range(5):\n",
    "    CitiesItem = rnd.choice(CitiesList)\n",
    "    print (\"Randomly selected item from Cities list is - \",CitiesItem)"
   ]
  },
  {
   "cell_type": "markdown",
   "metadata": {},
   "source": [
    "In the above example, 5 random elements are selected from the sequence list CitiesList. At each iteration of the cycle, a new element is extracted from the list containingthe names of the cities.\n",
    "\n",
    "#### Selecting n random values from an array \n",
    "Many simulations require random samples from a population of input values.  The `size` option in the `choice()` function is for that purpose. Let's look at an example:"
   ]
  },
  {
   "cell_type": "code",
   "execution_count": 9,
   "metadata": {},
   "outputs": [
    {
     "name": "stdout",
     "output_type": "stream",
     "text": [
      "Initial Data List =  range(10, 100, 10)\n",
      "Sample Data List =  [80 80 80 40 10]\n"
     ]
    }
   ],
   "source": [
    "DataList = range(10,100,10)\n",
    "print(\"Initial Data List = \",DataList)\n",
    "DataSample = rnd.choice(DataList,size=5)\n",
    "print(\"Sample Data List = \",DataSample)"
   ]
  },
  {
   "cell_type": "markdown",
   "metadata": {},
   "source": [
    "In the above example, only 5 elements of the initial list were selected, and this selection was completely random.\n",
    "### 2- Exploring Probability Distributions\n",
    "#### Uniform Distribution\n",
    "This distribution generates random values uniformly distributed over the half-open interval [a,b).\n",
    "Any value within the given interval is equally likely to be drawn by uniform distribution. Let's look at an example:"
   ]
  },
  {
   "cell_type": "code",
   "execution_count": 10,
   "metadata": {},
   "outputs": [
    {
     "data": {
      "image/png": "[encoded data removed]",
      "text/plain": [
       "<Figure size 432x288 with 1 Axes>"
      ]
     },
     "metadata": {
      "needs_background": "light"
     },
     "output_type": "display_data"
    }
   ],
   "source": [
    "#Initializing uniform distribution parameters \n",
    "a=1\n",
    "b=100\n",
    "N=100\n",
    "#Randomly generate 100 numbers between a and b\n",
    "#using uniform distribution\n",
    "X1=rnd.uniform(a,b,N)\n",
    "#Ploting X1 using matplotlib.pyplot library\n",
    "plt.plot(X1)\n",
    "plt.show()"
   ]
  },
  {
   "cell_type": "markdown",
   "metadata": {},
   "source": [
    "Lets now analyze how the generated values are distributed in the interval considered. We draw a graph of the probability density function as follows:"
   ]
  },
  {
   "cell_type": "code",
   "execution_count": 11,
   "metadata": {},
   "outputs": [
    {
     "data": {
      "image/png": "[encoded data removed]",
      "text/plain": [
       "<Figure size 432x288 with 1 Axes>"
      ]
     },
     "metadata": {
      "needs_background": "light"
     },
     "output_type": "display_data"
    }
   ],
   "source": [
    "plt.figure()\n",
    "plt.hist(X1, density=True, histtype='stepfilled',\n",
    "alpha=0.2)\n",
    "plt.show()"
   ]
  },
  {
   "cell_type": "markdown",
   "metadata": {},
   "source": [
    "Here, we can see that the generated values are distributed almost evenly throughout the range.\n",
    "Let's now see What happens if we increase the number of generated values?\n",
    "Then, we repeat the commands to generate up to 10000 random numbers uniformly distributed between 1 and 100."
   ]
  },
  {
   "cell_type": "code",
   "execution_count": 12,
   "metadata": {},
   "outputs": [
    {
     "data": {
      "image/png": "[encoded data removed]",
      "text/plain": [
       "<Figure size 432x288 with 1 Axes>"
      ]
     },
     "metadata": {
      "needs_background": "light"
     },
     "output_type": "display_data"
    },
    {
     "data": {
      "image/png": "[encoded data removed]",
      "text/plain": [
       "<Figure size 432x288 with 1 Axes>"
      ]
     },
     "metadata": {
      "needs_background": "light"
     },
     "output_type": "display_data"
    }
   ],
   "source": [
    "a=1\n",
    "b=100\n",
    "N=10000\n",
    "\n",
    "X2=rnd.uniform(a,b,N)\n",
    "plt.figure()\n",
    "plt.plot(X2)\n",
    "plt.show()\n",
    "\n",
    "plt.figure()\n",
    "plt.hist(X2, density=True, histtype='stepfilled',\n",
    "alpha=0.2)\n",
    "plt.show()"
   ]
  },
  {
   "cell_type": "markdown",
   "metadata": {},
   "source": [
    "Analyzing the previous histogram and comparing it with what we obtained in the case of N=100, we can see that this time, the distribution appears to be  flatter.  The distribution becomes more and more  flat as N increases.\n",
    "#### Binomial distribution\n",
    "The binomial distribution is the probability of obtaining $x$ successes in $t$ independent trials and is computed as follows:\n",
    "\n",
    "$p(x) =  \\binom{t}{x} p^t(1-p)^{t-x}, 0\\leq x \\leq t $\n",
    "where: $\\binom{t}{x}=\\frac{t!}{(t-p)!p!}$\n",
    "\n",
    "\n",
    "##### Example:\n",
    "<figure>\n",
    "  <IMG src=\"figures/one-dice.jpg\" WIDTH=100  ALIGN=\"right\">\n",
    "</figure>\n",
    "We throw a dice $10$ times and we want to study the binomial variable $x$= {number of times a number<= 3 cames out}.  The parameters of the problem are:\n",
    "<ol>\n",
    "   <li>  $t=10$ </li>\n",
    "   <li>  $p=3*\\frac{1}{6}=0.5$ </li>\n",
    "   <li> $q=1-p=0.5$ </li>\n",
    "</ol>\n",
    "\n",
    "Let's now simulate this experiment:"
   ]
  },
  {
   "cell_type": "code",
   "execution_count": 13,
   "metadata": {},
   "outputs": [
    {
     "data": {
      "image/png": "[encoded data removed]",
      "text/plain": [
       "<Figure size 432x288 with 1 Axes>"
      ]
     },
     "metadata": {
      "needs_background": "light"
     },
     "output_type": "display_data"
    }
   ],
   "source": [
    "#Initializing Binomial distribution parameters \n",
    "N = 1000\n",
    "t = 10\n",
    "p = 0.5\n",
    "#Generate the Binomial probability distribution\n",
    "#Then Plot\n",
    "P1 = rnd.binomial(t,p,N)\n",
    "plt.plot(P1)\n",
    "plt.show()"
   ]
  },
  {
   "cell_type": "markdown",
   "metadata": {},
   "source": [
    "We now evaluate the probability density function as follows:"
   ]
  },
  {
   "cell_type": "code",
   "execution_count": 14,
   "metadata": {},
   "outputs": [
    {
     "data": {
      "image/png": "[encoded data removed]",
      "text/plain": [
       "<Figure size 432x288 with 1 Axes>"
      ]
     },
     "metadata": {
      "needs_background": "light"
     },
     "output_type": "display_data"
    }
   ],
   "source": [
    "plt.figure()\n",
    "plt.hist(P1, density=True, alpha=0.8, histtype='bar',\n",
    "color = 'green', ec='black')\n",
    "plt.show()"
   ]
  },
  {
   "cell_type": "markdown",
   "metadata": {},
   "source": [
    "We can see that all the areas of the binomial distributions, that is, the sum of the rectangles, being the sum of probability, are worth 1.\n",
    "\n",
    "#### Normal distribution\n",
    "The normal distribution is the most used continuous distribution in statistics. Recall that the probability density distribution of the normal distribution is given as follows:\n",
    "\n",
    "$f(x)=\\frac{1}{\\sqrt{2\\pi\\sigma^2}}e^{-(x-\\mu)^2/2\\sigma^2}$\n",
    "\n",
    "##### Example:\n",
    "The average height of $18$-year old boys of $1000$ boys is normally distributed with a mean of $180$ cm and a standard deviation of $7$ cm. The parameters of the problem are:\n",
    "<ol>\n",
    "   <li>  $\\mu=180$ </li>\n",
    "   <li>  $\\sigma=7$ </li>\n",
    "</ol>\n",
    "\n",
    "Now, let’s generate a normal distribution and evaluate the probability density function with Python code as follows"
   ]
  },
  {
   "cell_type": "code",
   "execution_count": 15,
   "metadata": {},
   "outputs": [
    {
     "name": "stderr",
     "output_type": "stream",
     "text": [
      "/Users/macbook/opt/anaconda3/lib/python3.8/site-packages/seaborn/distributions.py:2551: FutureWarning: `distplot` is a deprecated function and will be removed in a future version. Please adapt your code to use either `displot` (a figure-level function with similar flexibility) or `histplot` (an axes-level function for histograms).\n",
      "  warnings.warn(msg, FutureWarning)\n"
     ]
    },
    {
     "data": {
      "text/plain": [
       "<Figure size 432x288 with 0 Axes>"
      ]
     },
     "execution_count": 15,
     "metadata": {},
     "output_type": "execute_result"
    },
    {
     "data": {
      "image/png": "[encoded data removed]",
      "text/plain": [
       "<Figure size 432x288 with 1 Axes>"
      ]
     },
     "metadata": {
      "needs_background": "light"
     },
     "output_type": "display_data"
    },
    {
     "data": {
      "text/plain": [
       "<Figure size 432x288 with 0 Axes>"
      ]
     },
     "metadata": {},
     "output_type": "display_data"
    }
   ],
   "source": [
    "import numpy as np\n",
    "import matplotlib.pyplot as plt\n",
    "import seaborn as sns\n",
    "#Initializing Normal distribution parameters \n",
    "mu = 180\n",
    "sigma =7\n",
    "N=1000\n",
    "#Generate the Normal probability distribution\n",
    "P1 = rnd.normal(mu, sigma, N)\n",
    "#Then Plot\n",
    "Plot = sns.distplot(P1)\n",
    "plt.figure()"
   ]
  },
  {
   "cell_type": "markdown",
   "metadata": {},
   "source": [
    "We can see that the distribution of the 1000 samples populations follow a normal distribution as ploted by `sns.distplot()` function"
   ]
  },
  {
   "cell_type": "markdown",
   "metadata": {},
   "source": [
    "## Approximating Probability throught Simulation\n",
    "### Flipping a coin\n",
    " Let's flip a coin $n$ times and computes the probability via simulation by counting the number of heads (0) and the number of tails (1). Note that the theoritical probability of getting a head or tail when flipping a coin is $p(x=0)=p(x=1)=0.5$.To compute the probability via simulation, we apply the relative frequency and probability concept seen in the course: \n",
    " $f(E)=\\frac{v}{n}\\cong P(E)$. \n",
    " Where $v$ is number of the times the event $E$ occurred and $n$ the number of tests carried out"
   ]
  },
  {
   "cell_type": "code",
   "execution_count": 24,
   "metadata": {},
   "outputs": [
    {
     "name": "stdout",
     "output_type": "stream",
     "text": [
      "outcome 0 is 55 with probability=0.55\n",
      "outcome 1 is 45 with probability=0.45\n"
     ]
    },
    {
     "data": {
      "image/png": "[encoded data removed]",
      "text/plain": [
       "<Figure size 432x288 with 1 Axes>"
      ]
     },
     "metadata": {
      "needs_background": "light"
     },
     "output_type": "display_data"
    }
   ],
   "source": [
    "rnd.seed(10)\n",
    "n=100\n",
    "flip = rnd.randint(0, 2, n)\n",
    "\n",
    "outcomes = np.zeros(2, dtype='int') # Two outcomes. heads are stored in outcome[0], tails in outcome[1]\n",
    "for i in range (2):\n",
    "    outcomes[i] = np.count_nonzero(flip == i)\n",
    "    print(f'outcome {i} is {outcomes[i]} with probability={outcomes[i]/n}')\n",
    "\n",
    "plt.bar(range(0, 2), outcomes/n)\n",
    "plt.xticks(range(0, 2))\n",
    "plt.xlabel('Probability of Head/tails')\n",
    "plt.ylabel('occurence in '+str(n)+' trials');"
   ]
  },
  {
   "cell_type": "markdown",
   "metadata": {},
   "source": [
    "Now let's increase the numner of experiments and plot the probability simulation results"
   ]
  },
  {
   "cell_type": "code",
   "execution_count": 26,
   "metadata": {},
   "outputs": [
    {
     "data": {
      "text/plain": [
       "<matplotlib.legend.Legend at 0x119942940>"
      ]
     },
     "execution_count": 26,
     "metadata": {},
     "output_type": "execute_result"
    },
    {
     "data": {
      "image/png": "[encoded data removed]",
      "text/plain": [
       "<Figure size 432x288 with 1 Axes>"
      ]
     },
     "metadata": {
      "needs_background": "light"
     },
     "output_type": "display_data"
    }
   ],
   "source": [
    "experiments=np.arange(100, 100001, 100)\n",
    "\n",
    "outcomes_head=np.zeros(len(experiments))\n",
    "outcomes_tail=np.zeros(len(experiments))\n",
    "\n",
    "\n",
    "\n",
    "\n",
    "rnd.seed(10)\n",
    "i=0\n",
    "for n in experiments:  \n",
    "    flip = rnd.randint(0, 2, n)\n",
    "    outcomes_head[i] = np.count_nonzero(flip == 0)/n\n",
    "    outcomes_tail[i] = np.count_nonzero(flip == 1)/n  \n",
    "    i=i+1\n",
    "   \n",
    "    \n",
    "plt.plot(experiments, outcomes_head,label='Simulation (Head)')\n",
    "plt.plot(experiments, outcomes_tail,label='Simulation (Tail)')\n",
    "plt.hlines(y = 0.5, xmin = experiments[0], xmax = experiments[-1],colors=\"black\",label='Theoritical') \n",
    "plt.xlabel('Itteration $n$')\n",
    "plt.ylabel('Probability');\n",
    "plt.legend()"
   ]
  },
  {
   "cell_type": "markdown",
   "metadata": {},
   "source": [
    "We can see that the probability computed by simulation eventually converges to the true value as more experiments are conducted."
   ]
  },
  {
   "cell_type": "markdown",
   "metadata": {},
   "source": [
    "## Challenges\n",
    "### Challenge 1: Birth Weight of New Born Babies\n",
    "The birth weight (in kilograms) of the $3.226$ new born babies is normally distributed with a mean of $3.39$ klg and a standard deviation of $0.55$ klg. \n",
    "Define your problem parameters.\n",
    "Generate the normal distribution and evaluate the probability density function."
   ]
  },
  {
   "cell_type": "code",
   "execution_count": 18,
   "metadata": {},
   "outputs": [],
   "source": [
    "#Your code here"
   ]
  },
  {
   "cell_type": "markdown",
   "metadata": {},
   "source": [
    "### Challenge 2: Crime Survey\n",
    "An FBI survey of 1000 reports shows that about 80% of all property crimes go unsolved. Suppose that in your town 3 such crimes are committed and they are each deemed independent of each other. \n",
    "<ol>\n",
    "  <li>Simulate this experiement and evaluate the probability density function</li>\n",
    "  <li>Compute the probability that 1 of 3 of these crimes will be solved?</li>\n",
    "</ol>\n",
    "\n",
    "#### Hint\n",
    "The problem above follows a binomial distribution since the following conditions are satisfied:\n",
    "<ul>\n",
    "  <li>Does it satisfy a fixed number of trials? YES the number of trials is fixed at 3 </li>\n",
    "  <li>Does it have only 2 outcomes? YES (Solved and unsolved)</li>\n",
    "  <li>Do all the trials have the same probability of success? YES (p = (100%-80%)=0.2)</li>\n",
    "</ul>\n"
   ]
  },
  {
   "cell_type": "code",
   "execution_count": 19,
   "metadata": {},
   "outputs": [],
   "source": [
    "#Your code here"
   ]
  },
  {
   "cell_type": "markdown",
   "metadata": {},
   "source": [
    " ### Challenge 3: Throwing a dice\n",
    "Using the 1st code in the above experiment (Flipping a coin),  throw a dice with $n=100$ times and report how many times you throw $1, 2, 3, 4, 5,$ and $6$. Use a seed of $33$. Make sure that the reported values add up to $100$. What is the theoritical probability of each event."
   ]
  },
  {
   "cell_type": "code",
   "execution_count": 20,
   "metadata": {},
   "outputs": [],
   "source": [
    "#Your code here"
   ]
  },
  {
   "cell_type": "markdown",
   "metadata": {},
   "source": [
    "Now Using the 2nd code in the Flipping a coin experiment, plot the probability simulation results and compare it with the theoritical probability."
   ]
  },
  {
   "cell_type": "code",
   "execution_count": 21,
   "metadata": {},
   "outputs": [],
   "source": [
    "#Your code here"
   ]
  },
  {
   "cell_type": "markdown",
   "metadata": {},
   "source": [
    "### Challenge 4: Drawing balls from a box\n",
    "Suppose there are 12 balls in a box: 4 black, 4 red, and 4 blue. We want to make a program that draws n balls at random from the box. It is natural to represent the collection of balls as a list. Each list element can be an integer 1, 2, or 3, since we have 3 different types of balls, but it would be easier to work with the program if the balls could have a color instead of an integer number. This is easily accomplished by defining color names (See `new_box()` function below). Drawing a ball at random is performed by the `draw_ball()` function. Similarly, drawing n balls can be performed using the `draw_n_balls()` function."
   ]
  },
  {
   "cell_type": "code",
   "execution_count": 22,
   "metadata": {},
   "outputs": [],
   "source": [
    "import numpy.random as rnd\n",
    "\n",
    "def new_box():\n",
    "    colors = 'black', 'red', 'blue'   # (tuple of strings)\n",
    "    box = []\n",
    "    for color in colors:\n",
    "        for i in range(4):\n",
    "            box.append(color)\n",
    "    return box\n",
    "\n",
    "def draw_ball(box):\n",
    "    color = rnd.choice(box)\n",
    "    box.remove(color)\n",
    "    return color, box\n",
    "\n",
    "def draw_n_balls(box,n):\n",
    "# Draw n balls from the box\n",
    "    balls = []\n",
    "    for i in range(n):\n",
    "        color, box = draw_ball(box)\n",
    "        balls.append(color)\n",
    "    return balls\n"
   ]
  },
  {
   "cell_type": "markdown",
   "metadata": {},
   "source": [
    "#### Question\n",
    "Now, we ask you to compute the probability of drawing 2 or more black balls from that box via experiemntal simulation. To do so, perform `N` experiments, count how many times `M` you get 2 or more black balls, and estimate the probability as `M/N`. Each experiment consists of making the box list, drawing a number of balls, and counting how many black balls we got. The latter task is easy with the count method in list objects: `box.count('black')` counts how many elements with value 'black' we have in the list box.\n",
    "Given:\n",
    "<ul>\n",
    "  <li>n as how  many balls are to be drawn? </li>\n",
    "  <li>N as how many experiments?</li>\n",
    "</ul>\n",
    " Write a python program using the functions defined just above to compute the required probability.\n",
    " Run your program with n=5 (drawing 5 balls each time) and N=4000 and reports the probability result.\n",
    " Try with other n values and report what differs from the obtained results."
   ]
  },
  {
   "cell_type": "code",
   "execution_count": 28,
   "metadata": {},
   "outputs": [
    {
     "name": "stdout",
     "output_type": "stream",
     "text": [
      "Probability:0.00\n"
     ]
    }
   ],
   "source": [
    "n = 2\n",
    "N = 4000\n",
    "\n",
    "prob=0\n",
    "#complete your code here to compute and print the prob\n",
    "#.......\n",
    "print ('Probability:' \"{:.2f}\".format(prob))"
   ]
  },
  {
   "cell_type": "code",
   "execution_count": null,
   "metadata": {},
   "outputs": [],
   "source": []
  }
 ],
 "metadata": {
  "kernelspec": {
   "display_name": "Python 3",
   "language": "python",
   "name": "python3"
  },
  "language_info": {
   "codemirror_mode": {
    "name": "ipython",
    "version": 3
   },
   "file_extension": ".py",
   "mimetype": "text/x-python",
   "name": "python",
   "nbconvert_exporter": "python",
   "pygments_lexer": "ipython3",
   "version": "3.8.5"
  }
 },
 "nbformat": 4,
 "nbformat_minor": 4
}
