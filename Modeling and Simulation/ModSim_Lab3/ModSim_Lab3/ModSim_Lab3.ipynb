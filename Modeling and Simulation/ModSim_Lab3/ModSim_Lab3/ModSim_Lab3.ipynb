{
  "cells": [
    {
      "cell_type": "markdown",
      "metadata": {
        "id": "Im2Mmg04EkJB"
      },
      "source": [
        "<figure>\n",
        "  <IMG src=\"figures/logo-esi-sba.png\" WIDTH=300 height=\"100\" ALIGN=\"right\">\n",
        "</figure>\n",
        "\n",
        "# Practical Trainining Series on Modeling And Simulation   \n",
        "*By Dr. Belkacem KHALDI (b.khaldi@esi-sba.dz)*"
      ]
    },
    {
      "cell_type": "markdown",
      "metadata": {
        "id": "VCoTk4fMEkJB"
      },
      "source": [
        "## Notebook 3: Probabilities and Random Number Simulation\n",
        "In this Notebook you learn how to deal with Probabilities and Random Number Simulation. Many of the functions we will use are included in the `random` subpackage of `numpy`. We will import this package and call it `rnd` so that we don't have to type `np.random`. all the time."
      ]
    },
    {
      "cell_type": "code",
      "execution_count": 1,
      "metadata": {
        "id": "lTjkPDt4EkJR"
      },
      "outputs": [],
      "source": [
        "%matplotlib inline\n",
        "import numpy as np\n",
        "import matplotlib.pyplot as plt\n",
        "import numpy.random as rnd"
      ]
    },
    {
      "cell_type": "markdown",
      "metadata": {
        "id": "TGXTqwsQEkJR"
      },
      "source": [
        "### 1- Introduction to Probability\n",
        "Probability is a means of determining and describing the likelihood of an event occurring or the truth of a situation. It's a helpful mathematical tool for coping with unpredictability and uncertainty.\n",
        "\n",
        "### Exemple 1: Tossing a coin\n",
        "Currency coins are often said to have two sides: a \"head\" and a \"tail\"\n",
        "\n",
        "<figure>\n",
        "  <IMG src=\"figures/coin-100dz.jpeg\" WIDTH=300 height=\"100\" ALIGN=\"right\">\n",
        "</figure>\n",
        "\n",
        "A fair coin is one that is equally likely to land on either side when tossed or flipped. The side that shows up on top once the coin lands is referred to as the result of a coin toss/flip.\n",
        "    \n",
        "If we have precise measurements of the physical environment and the forces used to toss the coin, we may be able to predict the outcome. However, we rarely have access to this information, making it difficult (if not impossible) to execute all of these measurements with adequate precision.\n",
        "    \n",
        "The assumption of randomness allows you to deal with limited data and unpredictable outcomes. Tossing a coin is described as an experiment that can yield one of two outcomes at random. Probability is a metric for determining how likely each outcome is.\n",
        "\n",
        "> **Question**: If you flip a fair coin, what is the **probability** of **getting heads**?\n",
        "\n",
        "When we have several equally likely possible outcomes, the probability of a condition (also called event) is defined as:\n",
        "\n",
        "> $$P(\\textrm{condition}) = \\frac{\\textrm{ No. of outcomes satisfying the condition }} {\\textrm{Number of equally likely outcomes}}$$\n",
        "\n",
        "**The probability of a condition/event is a number between 0 and 1.**\n",
        "\n",
        "\n",
        "We can define a function `probability` to perform this calculation."
      ]
    },
    {
      "cell_type": "code",
      "execution_count": 2,
      "metadata": {
        "id": "ZmnEokrmEkJR"
      },
      "outputs": [],
      "source": [
        "def probability(matching_outcomes, total_outcomes):\n",
        "    return matching_outcomes/total_outcomes"
      ]
    },
    {
      "cell_type": "markdown",
      "metadata": {
        "id": "lCRJ-Q22EkJR"
      },
      "source": [
        "When we toss a fair coin, there are just two conceivable outcomes: \"head\" or \"tail,\" both equally likely. One of the outcomes matches the condition \"getting a head\".\n",
        "\n",
        "With this information, we can now use the formula to compute the probability of a getting a head."
      ]
    },
    {
      "cell_type": "code",
      "execution_count": 3,
      "metadata": {
        "colab": {
          "base_uri": "https://localhost:8080/"
        },
        "id": "PgMWjYYZEkJR",
        "outputId": "087bfccf-4185-42e8-927f-f6c444d0685a"
      },
      "outputs": [
        {
          "name": "stdout",
          "output_type": "stream",
          "text": [
            "The probability of getting a head: 0.5\n"
          ]
        }
      ],
      "source": [
        "p_head = probability(matching_outcomes=1, total_outcomes=2)\n",
        "print(\"The probability of getting a head:\", p_head)"
      ]
    },
    {
      "cell_type": "markdown",
      "metadata": {
        "id": "2IBIlND2EkJR"
      },
      "source": [
        "### Challenge 1\n",
        "Using the `probability` function mention above, compute the probability of the following queries when you flip a fair coin:\n",
        "<ol>\n",
        "  <li>What is the probability  of getting a tail ? </li>\n",
        "  <li>What is the probability of getting a head or a tail?</li>\n",
        "  <li>What is the probability of receiving neither a head nor a tail?</li>\n",
        "</ol>\n",
        "   "
      ]
    },
    {
      "cell_type": "code",
      "execution_count": 4,
      "metadata": {
        "id": "38_KOfY2EkJR"
      },
      "outputs": [
        {
          "name": "stdout",
          "output_type": "stream",
          "text": [
            "The probability of getting a head: 0.5\n",
            "The probability of getting a head or a tail: 1.0\n",
            "The probability of receiving neither a head nor a tail: 0.0\n"
          ]
        }
      ],
      "source": [
        "#Your solutions here\n",
        "p_tail = probability(matching_outcomes=1, total_outcomes=2)\n",
        "p_head_OR_tail = probability(matching_outcomes=2, total_outcomes=2)\n",
        "p_neither_head_nor_tail = probability(matching_outcomes=0, total_outcomes=2)\n",
        "print(\"The probability of getting a head:\", p_tail)\n",
        "print(\"The probability of getting a head or a tail:\", p_head_OR_tail)\n",
        "print(\"The probability of receiving neither a head nor a tail:\", p_neither_head_nor_tail)"
      ]
    },
    {
      "cell_type": "markdown",
      "metadata": {
        "id": "7dDKn8QCEkJR"
      },
      "source": [
        "### Exemple 2: Rolling dice\n",
        "\n",
        "A die (plural dice) is a 6-sided cube with a varied number of dots on each face (one to six). The number of dots that appear on the top face of a die after it has been rolled or thrown is known as the result of the roll/throw. As a result, a die throw can result in one of the following outcomes: 1, 2, 3, 4, 5, or 6.\n",
        "\n",
        "<img src=\"figures/one-dice.jpg\" width=\"100\">\n",
        "\n",
        "> **Question**: What is the probability of getting a four when a fair die is rolled?\n",
        "\n",
        "All outcomes are equally likely for a fair die, and the only the outcome 4 satisfies the condition \"getting a 4\". Thus, we can calculate the probability of the condition as follows:"
      ]
    },
    {
      "cell_type": "code",
      "execution_count": 5,
      "metadata": {
        "colab": {
          "base_uri": "https://localhost:8080/"
        },
        "id": "W8jK3IioEkJR",
        "outputId": "bbd95e6f-1400-4cef-a9be-354c90cc3f7f"
      },
      "outputs": [
        {
          "name": "stdout",
          "output_type": "stream",
          "text": [
            "The probability of getting a 4: 0.16666666666666666\n"
          ]
        }
      ],
      "source": [
        "p_die_4=probability(matching_outcomes=1, total_outcomes=6)\n",
        "print(\"The probability of getting a 4:\", p_die_4)"
      ]
    },
    {
      "cell_type": "markdown",
      "metadata": {
        "id": "clasSQUDEkJR"
      },
      "source": [
        "### Challenge 2\n",
        "Compute the probability of the following queries when rolling a die:\n",
        "\n",
        "<ol>\n",
        "  <li>What is the probability of getting <b> an even number </b>? </li>\n",
        "  <li>What is the probability of getting <b>a three or a six </b>?</li>\n",
        "  <li>What is the probability of getting <b>a three and a six</b>?</li>\n",
        "   <li> What is the probability of getting <b> a three or a seven</b>?</li>\n",
        "</ol>"
      ]
    },
    {
      "cell_type": "code",
      "execution_count": 6,
      "metadata": {
        "id": "EzA-k4ujEkJR"
      },
      "outputs": [
        {
          "name": "stdout",
          "output_type": "stream",
          "text": [
            "The probability of getting an even number: 0.5\n",
            "The probability of getting a three or a six: 0.3333333333333333\n",
            "The probability of getting a three and a six: 0.0\n",
            "The probability of getting a three or a seven: 0.16666666666666666\n"
          ]
        }
      ],
      "source": [
        "p_even_number = probability(matching_outcomes=3, total_outcomes=6)\n",
        "p_three_or_six = probability(matching_outcomes=2, total_outcomes=6)\n",
        "p_three_and_six = probability(matching_outcomes=0, total_outcomes=6)\n",
        "p_three_or_seven = probability(matching_outcomes=1, total_outcomes=6)\n",
        "print(\"The probability of getting an even number:\", p_even_number)\n",
        "print(\"The probability of getting a three or a six:\", p_three_or_six)\n",
        "print(\"The probability of getting a three and a six:\", p_three_and_six)\n",
        "print(\"The probability of getting a three or a seven:\", p_three_or_seven)"
      ]
    },
    {
      "cell_type": "markdown",
      "metadata": {
        "id": "XLZt7SKYEkJR"
      },
      "source": [
        "### Exemple 3: Playing Cards\n",
        "\n",
        "<img src=\"figures/deck_cards.jpg\" width=\"200\">\n",
        "\n",
        "There are 52 cards in a deck of playing cards. Each card is assigned to one of four suits: Spade ♠️, Clubs ♣️, Hearts ♥️ or Diamonds ♦️. Each suit consists of 13 cards: *Ace, 2, 3, 4, 5, 6, 7, 8, 9, 10, Jack, Queen*, and *King*. Hearts and diamonds are red, but spades and clubs are black.\n",
        "\n",
        "<img src=\"figures/playing_cards_deck.svg.png\" >\n",
        "\n",
        "\n",
        "\n",
        "\n",
        "In a well-shuffled deck of cards, any card is equally likely to end up at any position in the deck.\n",
        "\n",
        "<img src=\"figures/giphy.gif\" >\n",
        "\n",
        "\n",
        "> **Question**: What is the probability of **drawing a King of Hearts** from a well-shuffled deck of cards?\n",
        "\n",
        "There are 52 equally likely outcomes of the card being drawn, and just one outcome matches this condition."
      ]
    },
    {
      "cell_type": "code",
      "execution_count": 7,
      "metadata": {
        "colab": {
          "base_uri": "https://localhost:8080/"
        },
        "id": "FVWEsCxmEkJR",
        "outputId": "0ac40093-5b43-4888-ab55-4b8537849768"
      },
      "outputs": [
        {
          "name": "stdout",
          "output_type": "stream",
          "text": [
            "The probability of getting a King of Hearts: 0.019230769230769232\n"
          ]
        }
      ],
      "source": [
        "p_king_of_hearts=probability(matching_outcomes=1, total_outcomes=52)\n",
        "print(\"The probability of getting a King of Hearts:\", p_king_of_hearts)"
      ]
    },
    {
      "cell_type": "markdown",
      "metadata": {
        "id": "eOZRRP5jEkJR"
      },
      "source": [
        "### Challenge 3\n",
        "What is the probability of **drawing a red card** from a well-shuffled deck of cards.\n",
        "\n",
        "> *Hint*: Count the number of red cards.\n",
        "\n",
        "What is the probability of **drawing a spade ♠️** from a well-shuffled deck of cards.\n",
        "\n",
        "What is the probability of **drawing a 7** from a well-shuffled deck of cards.\n",
        "\n",
        "What is the probability of **drawing a card that's a spade and a jack** from a well-shuffled deck of cards?"
      ]
    },
    {
      "cell_type": "code",
      "execution_count": 8,
      "metadata": {
        "id": "ser-NIvZEkJR"
      },
      "outputs": [
        {
          "name": "stdout",
          "output_type": "stream",
          "text": [
            "The probability of p_drawing_a_red_card: 0.5\n",
            "The probability of drawing a spade: 0.25\n",
            "The probability of drawing a 7: 0.07692307692307693\n",
            "The probability of drawing a card that's a spade and a jack: 0.019230769230769232\n"
          ]
        }
      ],
      "source": [
        "p_drawing_a_red_card=probability(matching_outcomes=26, total_outcomes=52)\n",
        "print(\"The probability of p_drawing_a_red_card:\", p_drawing_a_red_card)\n",
        "\n",
        "p_drawing_a_spade=probability(matching_outcomes=13, total_outcomes=52)\n",
        "print(\"The probability of drawing a spade:\", p_drawing_a_spade)\n",
        "\n",
        "p_drawing_a_7=probability(matching_outcomes=4, total_outcomes=52)\n",
        "print(\"The probability of drawing a 7:\", p_drawing_a_7)\n",
        "\n",
        "p_a_spade_and_a_jack=probability(matching_outcomes=1, total_outcomes=52)\n",
        "print(\"The probability of drawing a card that's a spade and a jack:\", p_a_spade_and_a_jack)"
      ]
    },
    {
      "cell_type": "markdown",
      "metadata": {
        "id": "kN80WERmEkJR"
      },
      "source": [
        "### Bayes's Theorem\n",
        "\n",
        "There are two ways to think about Bayes's Theorem:\n",
        "\n",
        "* It is a divide-and conquer strategy for computing conditional probabilities.  If it's hard to compute $P(A|B)$ directly, sometimes it is easier to compute the terms on the other side of the equation: $P(A)$, $P(B|A)$, and $P(B)$.\n",
        "\n",
        "* It is also a recipe for updating beliefs in the light of new data.\n",
        "\n",
        "When we are working with the second interpretation, we often write Bayes's Theorem with different variables.  Instead of $A$ and $B$, we use $H$ and $D$, where\n",
        "\n",
        "* $H$ stands for \"hypothesis\", and\n",
        "\n",
        "* $D$ stands for \"data\".\n",
        "\n",
        "So we write Bayes's Theorem like this:\n",
        "\n",
        "$P(A|B) =\\frac{P(A) ~ P(B|A)}{P(B)}$\n",
        "\n",
        "$P(H|D) =\\frac{P(H) ~ P(D|H)}{P(D)}$\n",
        "\n",
        "In this context, each term has a name:\n",
        "\n",
        "* $P(H)$ is the \"prior probability\" of the hypothesis, which represents how confident you are that $H$ is true prior to seeing the data,\n",
        "\n",
        "* $P(D|H)$ is the \"likelihood\" of the data, which is the probability of seeing $D$ if the hypothesis is true,\n",
        "\n",
        "* $P(D)$ is the \"total probability of the data\", that is, the chance of seeing $D$ regardless of whether $H$ is true or not.\n",
        "\n",
        "* $P(H|D)$ is the \"posterior probability\" of the hypothesis, which indicates how confident you should be that $H$ is true after taking the data into account.\n",
        "\n",
        "An example will make all of this clearer."
      ]
    },
    {
      "cell_type": "markdown",
      "metadata": {
        "id": "gI32GW57EkJR"
      },
      "source": [
        "### The cookie problem\n",
        "\n",
        "\n",
        "> Suppose you have two bowls of cookies.  Bowl 1 contains 30 vanilla and 10 chocolate cookies.  Bowl 2 contains 20 of each kind.\n",
        ">\n",
        "> You choose one of the bowls at random and, without looking into the bowl, choose one of the cookies at random.  It turns out to be a vanilla cookie.\n",
        ">\n",
        "> What is the chance that you chose Bowl 1?\n",
        "\n",
        "We'll assume that there was an equal chance of choosing either bowl and an equal chance of choosing any cookie in the bowl."
      ]
    },
    {
      "cell_type": "markdown",
      "metadata": {
        "id": "B1C7l8vWEkJR"
      },
      "source": [
        "We can solve this problem using Bayes's Theorem. First, I'll define  $H$  and  $D$ :\n",
        "\n",
        "$H$  is the hypothesis that the bowl you chose is Bowl 1.\n",
        "\n",
        "$D$  is the data that the cookie is vanilla.\n",
        "\n",
        "What we want is the posterior probability of  $H$ , which is  $P(H|D)$ . It is not obvious how to compute it directly, but if we can figure out the terms on the right-hand side of Bayes's Theorem, we can get to it indirectly.\n",
        "\n",
        "$P(H)$ is the prior probability of $H$, which is the probability of choosing Bowl 1 before we see the data. If there was an equal chance of choosing either bowl, $P(H)$ is 1/2.\n",
        "\n",
        "$P(D|H)$ is the likelihood of the data, which is the chance of getting a vanilla cookie if $H$ is true, in other words, the chance of getting a vanilla cookie from Bowl 1, which is 30/40.\n",
        "\n",
        "$P(D)$ is the total probability of the data, which is the chance of getting a vanilla cookie whether $𝐻$ is true or not. In this example, we can figure out $P(D)$ directly: because the bowls are equally likely, and they contain the same number of cookies, you were equally likely to choose any cookie. Combining the two bowls, there are 50 vanilla and 30 chocolate cookies, so the probability of choosing a vanilla cookie is 50/80.\n",
        "\n",
        "Now that we have the terms on the right-hand side, we can use Bayes's Theorem to combine them."
      ]
    },
    {
      "cell_type": "code",
      "execution_count": null,
      "metadata": {
        "colab": {
          "base_uri": "https://localhost:8080/"
        },
        "id": "SuQB3sM8EkJR",
        "outputId": "da229b50-03db-423f-a681-d95e72215620"
      },
      "outputs": [
        {
          "name": "stdout",
          "output_type": "stream",
          "text": [
            "The probability of choosing Bowl 1: 0.6\n"
          ]
        }
      ],
      "source": [
        "#𝑃(𝐻)\n",
        "prior = probability(matching_outcomes=1, total_outcomes=2)\n",
        "likelihood =probability(matching_outcomes=30, total_outcomes=40)\n",
        "prob_data = probability(matching_outcomes=50, total_outcomes=80)\n",
        "posterior = prior * likelihood / prob_data\n",
        "print(\"The probability of choosing Bowl 1:\", posterior)"
      ]
    },
    {
      "cell_type": "markdown",
      "metadata": {
        "id": "rbOP8-UjEkJR"
      },
      "source": [
        "The posterior probability is  0.6 , a little higher than the prior, which was  0.5 .\n",
        "\n",
        "So the vanilla cookie makes us a little more certain that we chose Bowl 1.\n",
        "\n",
        "### Challenge 4\n",
        "What if we had chosen a chocolate cookie instead; what would be the posterior probability of Bowl 1?"
      ]
    },
    {
      "cell_type": "code",
      "execution_count": null,
      "metadata": {
        "id": "zc1D49qwEkJR"
      },
      "outputs": [
        {
          "name": "stdout",
          "output_type": "stream",
          "text": [
            "The probability of choosing B1|C: 0.3333333333333333\n"
          ]
        }
      ],
      "source": [
        "#Your solution here\n",
        "\n",
        "prior = probability(matching_outcomes=1, total_outcomes=2)\n",
        "likelihood =probability(matching_outcomes=10, total_outcomes=40)\n",
        "prob_data = probability(matching_outcomes=30, total_outcomes=80)\n",
        "posterior = prior * likelihood / prob_data\n",
        "print(\"The probability of choosing B1|C:\", posterior)"
      ]
    },
    {
      "cell_type": "markdown",
      "metadata": {
        "id": "QTzuWUR_EkJR"
      },
      "source": [
        "### 2- Random Numbers Generation\n",
        "A random number generator lets you draw, at random, a number from a specified distribution. Several random number generators are included in the `random` subpackage of `numpy`.\n",
        "\n",
        "#### The random.random() function\n",
        " The `random.random()` function returns the next nearest  foating-point value from the generated sequence. All return values are enclosed between 0 and 1.0. Let's explore a practical example that uses this function:"
      ]
    },
    {
      "cell_type": "code",
      "execution_count": 11,
      "metadata": {
        "colab": {
          "base_uri": "https://localhost:8080/"
        },
        "id": "AlEYCiHpEkJR",
        "outputId": "e40f07b0-970a-4fdb-bfcb-4d864de3501e",
        "scrolled": true
      },
      "outputs": [
        {
          "name": "stdout",
          "output_type": "stream",
          "text": [
            "0.6204 0.4778 0.8659 0.0411 0.7295 0.5053 0.0109 0.7875 0.5433 0.5998 0.4428 0.4558 0.7243 0.5425 0.4798 0.8287 0.0693 0.7222 0.6367 0.1391 "
          ]
        }
      ],
      "source": [
        "for i in range(20):\n",
        "    print('%05.4f' % rnd.random(), end=' ')"
      ]
    },
    {
      "cell_type": "markdown",
      "metadata": {
        "id": "nOqkhUJeEkJR"
      },
      "source": [
        "In the above example, 20 pseudorandom numbers are generated. Each number is printed in a format that includes 5 digits, including 4 decimal places.\n",
        "If we call the random() function again, we get a different sequence numbers:"
      ]
    },
    {
      "cell_type": "code",
      "execution_count": 12,
      "metadata": {
        "colab": {
          "base_uri": "https://localhost:8080/"
        },
        "id": "NW7xelo4EkJR",
        "outputId": "90ff253e-5597-4536-a130-82461f71001f"
      },
      "outputs": [
        {
          "name": "stdout",
          "output_type": "stream",
          "text": [
            "0.8217 0.1611 0.5606 0.2937 0.6759 0.4342 0.4459 0.3234 0.5233 0.1333 0.9353 0.8443 0.0061 0.4242 0.7150 0.3618 0.9498 0.5658 0.2987 0.5354 "
          ]
        }
      ],
      "source": [
        "for i in range(20):\n",
        "    print('%05.4f' % rnd.random(), end=' ')"
      ]
    },
    {
      "cell_type": "markdown",
      "metadata": {
        "id": "PiTlJwyeEkJR"
      },
      "source": [
        "#### The random.seed() function\n",
        "Internally, the random number generator starts with what is called a `seed`. The `seed` is a number and is generated automatically (and supposedly at random) when you call the random number generator. The value of the seed exactly defines the sequence of random numbers that you get. For example, let's set seed equal to 1:"
      ]
    },
    {
      "cell_type": "code",
      "execution_count": 13,
      "metadata": {
        "colab": {
          "base_uri": "https://localhost:8080/"
        },
        "id": "u8mY60EBEkJR",
        "outputId": "1607666a-8012-48da-9a69-2795b81be06b"
      },
      "outputs": [
        {
          "name": "stdout",
          "output_type": "stream",
          "text": [
            "0.4170 0.7203 0.0001 0.3023 0.1468 0.0923 0.1863 0.3456 0.3968 0.5388 0.4192 0.6852 0.2045 0.8781 0.0274 0.6705 0.4173 0.5587 0.1404 0.1981 "
          ]
        }
      ],
      "source": [
        "rnd.seed(1)\n",
        "for i in range(20):\n",
        "    print('%05.4f' % rnd.random(), end=' ')"
      ]
    },
    {
      "cell_type": "markdown",
      "metadata": {
        "id": "ToDwkYKVEkJR"
      },
      "source": [
        "If we now specify the `seed` again as 1, the exact same sequence is generated again."
      ]
    },
    {
      "cell_type": "code",
      "execution_count": 17,
      "metadata": {
        "colab": {
          "base_uri": "https://localhost:8080/"
        },
        "id": "sVuy9XquEkJR",
        "outputId": "7cf910ad-5898-44c9-f2e8-e6f9ded83e2b"
      },
      "outputs": [
        {
          "name": "stdout",
          "output_type": "stream",
          "text": [
            "0.4170 0.7203 0.0001 0.3023 0.1468 0.0923 0.1863 0.3456 0.3968 0.5388 0.4192 0.6852 0.2045 0.8781 0.0274 0.6705 0.4173 0.5587 0.1404 0.1981 "
          ]
        }
      ],
      "source": [
        "rnd.seed(1)\n",
        "for i in range(20):\n",
        "    print('%05.4f' % rnd.random(), end=' ')"
      ]
    },
    {
      "cell_type": "markdown",
      "metadata": {
        "id": "_eRdaKjmEkJR"
      },
      "source": [
        "#### The random.uniform() function\n",
        "The `random.uniform()` function generates numbers within a defined numeric range. Let's look at an example:"
      ]
    },
    {
      "cell_type": "code",
      "execution_count": 18,
      "metadata": {
        "colab": {
          "base_uri": "https://localhost:8080/"
        },
        "id": "QRpkfbvfEkJR",
        "outputId": "3af26e96-94dd-40e8-c996-a2c31efeb7b7"
      },
      "outputs": [
        {
          "name": "stdout",
          "output_type": "stream",
          "text": [
            "80.2737 96.8579 32.0290 69.5399 87.7625 89.5661 9.4194 4.8664 17.8132 87.9361 10.7363 42.6897 95.8311 53.7834 69.4958 32.2360 68.9636 83.6279 2.8105 75.2643 "
          ]
        }
      ],
      "source": [
        "for i in range(20):\n",
        "    print('%6.4f' % rnd.uniform(1, 100), end=' ')"
      ]
    },
    {
      "cell_type": "markdown",
      "metadata": {
        "id": "V_cONPrvEkJR"
      },
      "source": [
        "In the above example, 20 random numbers are generated in the range of [1,100)\n",
        "\n",
        "#### The random.randint() function\n",
        "This function generates random integers.  The arguments for `randint()` are the values of the range, including the extremes.  The numbers may be negative or positive, but the  1st value should be less than the second. Let's look at an example:"
      ]
    },
    {
      "cell_type": "code",
      "execution_count": 19,
      "metadata": {
        "colab": {
          "base_uri": "https://localhost:8080/"
        },
        "id": "L2-Mpp_uEkJR",
        "outputId": "d1bbe712-1aea-427a-af1d-d70c8c7cfb90"
      },
      "outputs": [
        {
          "name": "stdout",
          "output_type": "stream",
          "text": [
            "-85 -36 96 -75 11 35 -74 53 4 -78 -91 95 26 -77 25 0 55 65 -43 -17 "
          ]
        }
      ],
      "source": [
        "for i in range(20):\n",
        "    print(rnd.randint(-100, 100), end=' ')"
      ]
    },
    {
      "cell_type": "markdown",
      "metadata": {
        "id": "2tVKJscREkJR"
      },
      "source": [
        "In the above example, 20 random integer numbers are generated in the range of [-100,100]\n",
        "\n",
        "#### The random.choice() function\n",
        "A common use for random number generators is to select a random element from a sequence of enumerated values, even if these values are not numbers.  The `choice()` function returns a random element of the non-empty sequence passed as an argument. This function is suitable to use in extracting values from a predetermined list:"
      ]
    },
    {
      "cell_type": "code",
      "execution_count": 21,
      "metadata": {
        "colab": {
          "base_uri": "https://localhost:8080/"
        },
        "id": "0M2s3n0XEkJR",
        "outputId": "bbbbd9c4-f642-4a1e-b775-03355f2d9031"
      },
      "outputs": [
        {
          "name": "stdout",
          "output_type": "stream",
          "text": [
            "Randomly selected item from Cities list is -  Paris\n",
            "Randomly selected item from Cities list is -  Paris\n",
            "Randomly selected item from Cities list is -  Tokio\n",
            "Randomly selected item from Cities list is -  Paris\n",
            "Randomly selected item from Cities list is -  London\n"
          ]
        }
      ],
      "source": [
        "CitiesList = ['Rome','New York','Algiers','London','Berlin','Moskov',\n",
        "'Los Angeles','Paris','Madrid','Tokio','Toronto']\n",
        "for i in range(5):\n",
        "    CitiesItem = rnd.choice(CitiesList)\n",
        "    print (\"Randomly selected item from Cities list is - \",CitiesItem)"
      ]
    },
    {
      "cell_type": "markdown",
      "metadata": {
        "id": "JjYAsLSwEkJR"
      },
      "source": [
        "In the above example, 5 random elements are selected from the sequence list CitiesList. At each iteration of the cycle, a new element is extracted from the list containingthe names of the cities.\n",
        "\n",
        "#### Selecting n random values from an array\n",
        "Many simulations require random samples from a population of input values.  The `size` option in the `choice()` function is for that purpose. Let's look at an example:"
      ]
    },
    {
      "cell_type": "code",
      "execution_count": 22,
      "metadata": {
        "colab": {
          "base_uri": "https://localhost:8080/"
        },
        "id": "vmkaLPLiEkJR",
        "outputId": "b79ecea0-5830-4be1-82be-f35dcd89b49e"
      },
      "outputs": [
        {
          "name": "stdout",
          "output_type": "stream",
          "text": [
            "Initial Data List =  range(10, 100, 10)\n",
            "Sample Data List =  [10 90 80 80 20]\n"
          ]
        }
      ],
      "source": [
        "DataList = range(10,100,10)\n",
        "print(\"Initial Data List = \",DataList)\n",
        "DataSample = rnd.choice(DataList,size=5)\n",
        "print(\"Sample Data List = \",DataSample)"
      ]
    },
    {
      "cell_type": "markdown",
      "metadata": {
        "id": "0XN2aODIEkJh"
      },
      "source": [
        "In the above example, only 5 elements of the initial list were selected, and this selection was completely random.\n",
        "### 2- Exploring Probability Distributions\n",
        "#### Uniform Distribution\n",
        "This distribution generates random values uniformly distributed over the half-open interval [a,b).\n",
        "Any value within the given interval is equally likely to be drawn by uniform distribution. Let's look at an example:"
      ]
    },
    {
      "cell_type": "code",
      "execution_count": 40,
      "metadata": {
        "colab": {
          "base_uri": "https://localhost:8080/",
          "height": 430
        },
        "id": "-zwIQOvTEkJh",
        "outputId": "51bad96d-1000-4776-d829-32a224b40d8a"
      },
      "outputs": [
        {
          "data": {
            "image/png": "[encoded data removed]",
            "text/plain": [
              "<Figure size 640x480 with 1 Axes>"
            ]
          },
          "metadata": {},
          "output_type": "display_data"
        }
      ],
      "source": [
        "#Initializing uniform distribution parameters\n",
        "a=1\n",
        "b=100\n",
        "N=100\n",
        "#Randomly generate 100 numbers between a and b\n",
        "#using uniform distribution\n",
        "X1=rnd.uniform(a,b,N)\n",
        "#Ploting X1 using matplotlib.pyplot library\n",
        "plt.plot(X1)\n",
        "plt.show()"
      ]
    },
    {
      "cell_type": "markdown",
      "metadata": {
        "id": "DQI5KuxuEkJh"
      },
      "source": [
        "Lets now analyze how the generated values are distributed in the interval considered. We draw a graph of the probability density function as follows:"
      ]
    },
    {
      "cell_type": "code",
      "execution_count": 37,
      "metadata": {
        "colab": {
          "base_uri": "https://localhost:8080/",
          "height": 430
        },
        "id": "l8Yng-4WEkJh",
        "outputId": "8094722b-7a53-4dc7-a608-2ce6520813c1"
      },
      "outputs": [
        {
          "data": {
            "image/png": "[encoded data removed]",
            "text/plain": [
              "<Figure size 640x480 with 1 Axes>"
            ]
          },
          "metadata": {},
          "output_type": "display_data"
        }
      ],
      "source": [
        "plt.figure()\n",
        "plt.hist(X1, density=True, histtype='stepfilled',\n",
        "alpha=0.2)\n",
        "plt.show()"
      ]
    },
    {
      "cell_type": "markdown",
      "metadata": {
        "id": "XOQIXtrDEkJh"
      },
      "source": [
        "Here, we can see that the generated values are distributed almost evenly throughout the range.\n",
        "Let's now see What happens if we increase the number of generated values?\n",
        "Then, we repeat the commands to generate up to 10000 random numbers uniformly distributed between 1 and 100."
      ]
    },
    {
      "cell_type": "code",
      "execution_count": 38,
      "metadata": {
        "colab": {
          "base_uri": "https://localhost:8080/",
          "height": 843
        },
        "id": "_M6WXcahEkJh",
        "outputId": "1b69ae6d-a41b-4196-d893-19eaa1ec292a"
      },
      "outputs": [
        {
          "data": {
            "image/png": "[encoded data removed]",
            "text/plain": [
              "<Figure size 640x480 with 1 Axes>"
            ]
          },
          "metadata": {},
          "output_type": "display_data"
        },
        {
          "data": {
            "image/png": "[encoded data removed]",
            "text/plain": [
              "<Figure size 640x480 with 1 Axes>"
            ]
          },
          "metadata": {},
          "output_type": "display_data"
        }
      ],
      "source": [
        "a=1\n",
        "b=100\n",
        "N=10000\n",
        "\n",
        "X2=rnd.uniform(a,b,N)\n",
        "plt.figure()\n",
        "plt.plot(X2)\n",
        "plt.show()\n",
        "\n",
        "plt.figure()\n",
        "plt.hist(X2, density=True, histtype='stepfilled',\n",
        "alpha=0.2)\n",
        "plt.show()"
      ]
    },
    {
      "cell_type": "markdown",
      "metadata": {
        "id": "yrgNJisbEkJh"
      },
      "source": [
        "Analyzing the previous histogram and comparing it with what we obtained in the case of N=100, we can see that this time, the distribution appears to be  flatter.  The distribution becomes more and more  flat as N increases.\n",
        "#### Binomial distribution\n",
        "The binomial distribution is the probability of obtaining $x$ successes in $t$ independent trials and is computed as follows:\n",
        "\n",
        "$p(x) =  \\binom{t}{x} p^t(1-p)^{t-x}, 0\\leq x \\leq t $\n",
        "where: $\\binom{t}{x}=\\frac{t!}{(t-p)!p!}$\n",
        "\n",
        "\n",
        "##### Example:\n",
        "<figure>\n",
        "  <IMG src=\"figures/one-dice.jpg\" WIDTH=100  ALIGN=\"right\">\n",
        "</figure>\n",
        "We throw a dice $10$ times and we want to study the binomial variable $x$= {number of times a number<= 3 cames out}.  The parameters of the problem are:\n",
        "<ol>\n",
        "   <li>  $t=10$ </li>\n",
        "   <li>  $p=3*\\frac{1}{6}=0.5$ </li>\n",
        "   <li> $q=1-p=0.5$ </li>\n",
        "</ol>\n",
        "\n",
        "Let's now simulate this experiment:"
      ]
    },
    {
      "cell_type": "code",
      "execution_count": 23,
      "metadata": {
        "colab": {
          "base_uri": "https://localhost:8080/",
          "height": 430
        },
        "id": "0jkQ-VHeEkJh",
        "outputId": "881c49ce-a6a0-4279-d274-a90e847eee37"
      },
      "outputs": [
        {
          "data": {
            "image/png": "[encoded data removed]",
            "text/plain": [
              "<Figure size 640x480 with 1 Axes>"
            ]
          },
          "metadata": {},
          "output_type": "display_data"
        }
      ],
      "source": [
        "#Initializing Binomial distribution parameters\n",
        "N = 1000\n",
        "t = 10\n",
        "p = 0.5\n",
        "#Generate the Binomial probability distribution\n",
        "#Then Plot\n",
        "P1 = rnd.binomial(t,p,N)\n",
        "plt.plot(P1)\n",
        "plt.show()"
      ]
    },
    {
      "cell_type": "markdown",
      "metadata": {
        "id": "CzJ0o7NaEkJh"
      },
      "source": [
        "We now evaluate the probability density function as follows:"
      ]
    },
    {
      "cell_type": "code",
      "execution_count": 24,
      "metadata": {
        "colab": {
          "base_uri": "https://localhost:8080/",
          "height": 430
        },
        "id": "O1NBu-GoEkJh",
        "outputId": "62cb3727-f56c-49c6-a462-d34021c3c323"
      },
      "outputs": [
        {
          "data": {
            "image/png": "[encoded data removed]",
            "text/plain": [
              "<Figure size 640x480 with 1 Axes>"
            ]
          },
          "metadata": {},
          "output_type": "display_data"
        }
      ],
      "source": [
        "plt.figure()\n",
        "plt.hist(P1, density=True, alpha=0.8, histtype='bar',\n",
        "color = 'green', ec='black')\n",
        "plt.show()"
      ]
    },
    {
      "cell_type": "markdown",
      "metadata": {
        "id": "fCS6IwLiEkJh"
      },
      "source": [
        "We can see that all the areas of the binomial distributions, that is, the sum of the rectangles, being the sum of probability, are worth 1.\n",
        "\n",
        "#### Normal distribution\n",
        "The normal distribution is the most used continuous distribution in statistics. Recall that the probability density distribution of the normal distribution is given as follows:\n",
        "\n",
        "$f(x)=\\frac{1}{\\sqrt{2\\pi\\sigma^2}}e^{-(x-\\mu)^2/2\\sigma^2}$\n",
        "\n",
        "##### Example:\n",
        "The average height of $18$-year old boys of $1000$ boys is normally distributed with a mean of $180$ cm and a standard deviation of $7$ cm. The parameters of the problem are:\n",
        "<ol>\n",
        "   <li>  $\\mu=180$ </li>\n",
        "   <li>  $\\sigma=7$ </li>\n",
        "</ol>\n",
        "\n",
        "Now, let’s generate a normal distribution and evaluate the probability density function with Python code as follows"
      ]
    },
    {
      "cell_type": "code",
      "execution_count": 28,
      "metadata": {
        "colab": {
          "base_uri": "https://localhost:8080/",
          "height": 673
        },
        "id": "o5LxgSYqEkJh",
        "outputId": "48d47fc7-fda5-41e5-aeec-2744349597f9"
      },
      "outputs": [
        {
          "name": "stderr",
          "output_type": "stream",
          "text": [
            "C:\\Users\\raouf\\AppData\\Local\\Temp\\ipykernel_8316\\1834162390.py:11: UserWarning: \n",
            "\n",
            "`distplot` is a deprecated function and will be removed in seaborn v0.14.0.\n",
            "\n",
            "Please adapt your code to use either `displot` (a figure-level function with\n",
            "similar flexibility) or `histplot` (an axes-level function for histograms).\n",
            "\n",
            "For a guide to updating your code to use the new functions, please see\n",
            "https://gist.github.com/mwaskom/de44147ed2974457ad6372750bbe5751\n",
            "\n",
            "  Plot = sns.distplot(P1)\n"
          ]
        },
        {
          "data": {
            "text/plain": [
              "<Figure size 640x480 with 0 Axes>"
            ]
          },
          "execution_count": 28,
          "metadata": {},
          "output_type": "execute_result"
        },
        {
          "data": {
            "image/png": "[encoded data removed]",
            "text/plain": [
              "<Figure size 640x480 with 1 Axes>"
            ]
          },
          "metadata": {},
          "output_type": "display_data"
        },
        {
          "data": {
            "text/plain": [
              "<Figure size 640x480 with 0 Axes>"
            ]
          },
          "metadata": {},
          "output_type": "display_data"
        }
      ],
      "source": [
        "import numpy as np\n",
        "import matplotlib.pyplot as plt\n",
        "import seaborn as sns\n",
        "#Initializing Normal distribution parameters\n",
        "mu = 180\n",
        "sigma =7\n",
        "N=1000\n",
        "#Generate the Normal probability distribution\n",
        "P1 = rnd.normal(mu, sigma, N)\n",
        "#Then Plot\n",
        "Plot = sns.distplot(P1)\n",
        "plt.figure()"
      ]
    },
    {
      "cell_type": "markdown",
      "metadata": {
        "id": "tCLVgpqnEkJh"
      },
      "source": [
        "We can see that the distribution of the 1000 samples populations follow a normal distribution as ploted by `sns.distplot()` function"
      ]
    },
    {
      "cell_type": "markdown",
      "metadata": {
        "id": "ytORZuPEEkJh"
      },
      "source": [
        "## Approximating Probability throught Simulation\n",
        "### Flipping a coin\n",
        " Let's flip a coin $n$ times and computes the probability via simulation by counting the number of heads (0) and the number of tails (1). Note that the theoritical probability of getting a head or tail when flipping a coin is $p(x=0)=p(x=1)=0.5$.To compute the probability via simulation, we apply the relative frequency and probability concept seen in the course:\n",
        " $f(E)=\\frac{v}{n}\\cong P(E)$.\n",
        " Where $v$ is number of the times the event $E$ occurred and $n$ the number of tests carried out"
      ]
    },
    {
      "cell_type": "code",
      "execution_count": 45,
      "metadata": {
        "colab": {
          "base_uri": "https://localhost:8080/",
          "height": 486
        },
        "id": "utXAePwEEkJh",
        "outputId": "c386ff56-8160-425d-b88b-3a0629863f87"
      },
      "outputs": [
        {
          "name": "stdout",
          "output_type": "stream",
          "text": [
            "outcome 0 is 55 with probability=0.55\n",
            "outcome 1 is 45 with probability=0.45\n"
          ]
        },
        {
          "data": {
            "image/png": "[encoded data removed]",
            "text/plain": [
              "<Figure size 640x480 with 1 Axes>"
            ]
          },
          "metadata": {},
          "output_type": "display_data"
        }
      ],
      "source": [
        "rnd.seed(10)\n",
        "n=100\n",
        "flip = rnd.randint(0, 2, n)\n",
        "\n",
        "outcomes = np.zeros(2, dtype='int') # Two outcomes. heads are stored in outcome[0], tails in outcome[1]\n",
        "for i in range (2):\n",
        "    outcomes[i] = np.count_nonzero(flip == i)\n",
        "    print(f'outcome {i} is {outcomes[i]} with probability={outcomes[i]/n}')\n",
        "\n",
        "plt.bar(range(0, 2), outcomes/n)\n",
        "plt.xticks(range(0, 2))\n",
        "plt.xlabel('Probability of Head/tails')\n",
        "plt.ylabel('occurence in '+str(n)+' trials');"
      ]
    },
    {
      "cell_type": "markdown",
      "metadata": {
        "id": "pAho_30rEkJh"
      },
      "source": [
        "Now let's increase the numner of experiments and plot the probability simulation results"
      ]
    },
    {
      "cell_type": "code",
      "execution_count": 47,
      "metadata": {
        "colab": {
          "base_uri": "https://localhost:8080/",
          "height": 468
        },
        "id": "T4Qji7voEkJh",
        "outputId": "daa9218a-d86b-42ce-e218-8a8a4036e825"
      },
      "outputs": [
        {
          "data": {
            "text/plain": [
              "<matplotlib.legend.Legend at 0x267a0c873d0>"
            ]
          },
          "execution_count": 47,
          "metadata": {},
          "output_type": "execute_result"
        },
        {
          "data": {
            "image/png": "[encoded data removed]",
            "text/plain": [
              "<Figure size 640x480 with 1 Axes>"
            ]
          },
          "metadata": {},
          "output_type": "display_data"
        }
      ],
      "source": [
        "experiments=np.arange(100, 100001, 100)\n",
        "\n",
        "outcomes_head=np.zeros(len(experiments))\n",
        "outcomes_tail=np.zeros(len(experiments))\n",
        "\n",
        "\n",
        "\n",
        "\n",
        "rnd.seed(10)\n",
        "i=0\n",
        "for n in experiments:\n",
        "    flip = rnd.randint(0, 2, n)\n",
        "    outcomes_head[i] = np.count_nonzero(flip == 0)/n\n",
        "    outcomes_tail[i] = np.count_nonzero(flip == 1)/n\n",
        "    i=i+1\n",
        "\n",
        "\n",
        "plt.plot(experiments, outcomes_head,label='Simulation (Head)')\n",
        "plt.plot(experiments, outcomes_tail,label='Simulation (Tail)')\n",
        "plt.hlines(y = 0.5, xmin = experiments[0], xmax = experiments[-1],colors=\"black\",label='Theoritical')\n",
        "plt.xlabel('Itteration $n$')\n",
        "plt.ylabel('Probability')\n",
        "plt.legend()"
      ]
    },
    {
      "cell_type": "markdown",
      "metadata": {
        "id": "3cjOrrtKEkJn"
      },
      "source": [
        "We can see that the probability computed by simulation eventually converges to the true value as more experiments are conducted."
      ]
    },
    {
      "cell_type": "markdown",
      "metadata": {
        "id": "WJK2vdFYEkJn"
      },
      "source": [
        "## Challenges\n",
        "### Challenge 5: Birth Weight of New Born Babies\n",
        "The birth weight (in kilograms) of the $3.226$ new born babies is normally distributed with a mean of $3.39$ klg and a standard deviation of $0.55$ klg.\n",
        "Define your problem parameters.\n",
        "Generate the normal distribution and evaluate the probability density function."
      ]
    },
    {
      "cell_type": "code",
      "execution_count": null,
      "metadata": {
        "id": "NC8mg3OUEkJn"
      },
      "outputs": [
        {
          "name": "stderr",
          "output_type": "stream",
          "text": [
            "C:\\Users\\raouf\\AppData\\Local\\Temp\\ipykernel_8316\\2516882305.py:9: UserWarning: \n",
            "\n",
            "`distplot` is a deprecated function and will be removed in seaborn v0.14.0.\n",
            "\n",
            "Please adapt your code to use either `displot` (a figure-level function with\n",
            "similar flexibility) or `histplot` (an axes-level function for histograms).\n",
            "\n",
            "For a guide to updating your code to use the new functions, please see\n",
            "https://gist.github.com/mwaskom/de44147ed2974457ad6372750bbe5751\n",
            "\n",
            "  Plot = sns.distplot(P1)\n"
          ]
        },
        {
          "data": {
            "image/png": "[encoded data removed]",
            "text/plain": [
              "<Figure size 640x480 with 1 Axes>"
            ]
          },
          "metadata": {},
          "output_type": "display_data"
        }
      ],
      "source": [
        "#Your code here\n",
        "\n",
        "mu = 3.39\n",
        "sigma = 0.55\n",
        "N = 3226\n",
        "P1 = rnd.normal(mu, sigma, N)\n",
        "Plot = sns.distplot(P1)\n",
        "plt.show()  "
      ]
    },
    {
      "cell_type": "markdown",
      "metadata": {
        "id": "xyc_1HV0EkJn"
      },
      "source": [
        "### Challenge 6: Crime Survey\n",
        "An FBI survey of 1000 reports shows that about 80% of all property crimes go unsolved. Suppose that in your town 3 such crimes are committed and they are each deemed independent of each other.\n",
        "<ol>\n",
        "  <li>Simulate this experiement and evaluate the probability density function</li>\n",
        "  <li>Compute the probability that 1 of 3 of these crimes will be solved?</li>\n",
        "</ol>\n",
        "\n",
        "#### Hint\n",
        "The problem above follows a binomial distribution since the following conditions are satisfied:\n",
        "<ul>\n",
        "  <li>Does it satisfy a fixed number of trials? YES the number of trials is fixed at 3 </li>\n",
        "  <li>Does it have only 2 outcomes? YES (Solved and unsolved)</li>\n",
        "  <li>Do all the trials have the same probability of success? YES (p = (100%-80%)=0.2)</li>\n",
        "</ul>\n"
      ]
    },
    {
      "cell_type": "code",
      "execution_count": 30,
      "metadata": {
        "id": "xgaFrga0EkJn"
      },
      "outputs": [
        {
          "name": "stdout",
          "output_type": "stream",
          "text": [
            "[0 1 1 0 1 1 0 1 0 1 0 0 0 0 2 1 0 0 1 0 1 0 0 0 1 0 0 0 0 0 0 1 0 1 1 0 0\n",
            " 0 1 1 0 1 1 1 0 0 0 2 0 1 0 2 0 1 1 1 1 1 0 1 1 0 0 0 0 0 0 1 0 1 1 1 1 1\n",
            " 0 1 2 0 0 0 0 1 0 1 0 1 1 2 2 1 1 1 0 0 0 1 0 0 1 1 2 0 0 1 0 0 0 0 0 1 0\n",
            " 1 0 2 1 0 0 0 0 0 0 1 1 0 1 2 0 0 1 0 0 0 1 0 0 0 3 0 0 0 0 0 0 0 1 0 0 0\n",
            " 0 1 1 1 0 1 0 0 0 1 1 1 0 1 0 1 0 0 0 0 1 0 1 1 0 0 0 0 1 0 0 2 0 1 0 0 0\n",
            " 1 1 0 0 0 1 1 0 1 1 0 1 0 1 0 0 0 1 2 0 1 1 1 1 0 1 0 0 0 1 1 0 0 0 0 0 1\n",
            " 0 0 2 0 0 1 1 0 0 2 0 1 1 0 0 1 1 0 0 1 0 0 0 0 1 0 0 1 0 1 0 2 1 0 0 1 0\n",
            " 1 0 0 0 0 1 2 1 0 1 0 0 0 1 1 0 0 0 0 0 1 0 0 0 1 0 0 1 1 0 0 0 0 1 0 1 0\n",
            " 0 1 0 0 1 0 1 2 0 0 0 1 1 0 0 1 1 0 0 1 0 1 0 1 0 1 0 1 1 1 2 0 0 0 1 1 1\n",
            " 0 0 2 0 1 1 0 1 2 2 0 2 0 2 0 0 1 1 1 0 0 1 0 0 1 1 1 1 0 0 1 1 0 0 0 1 2\n",
            " 1 1 0 1 1 0 0 2 0 0 0 1 0 0 1 1 1 0 0 1 0 1 0 0 1 2 0 2 0 0 0 1 0 0 1 0 0\n",
            " 1 0 0 0 0 1 0 2 0 2 1 1 0 0 0 0 0 0 1 2 0 1 1 0 1 0 1 0 0 1 0 1 1 2 2 1 0\n",
            " 0 0 0 0 0 1 0 0 0 1 1 1 1 1 0 1 1 0 0 0 1 1 0 0 1 1 0 1 1 0 2 2 0 0 1 1 0\n",
            " 2 1 0 1 0 0 0 0 0 0 2 1 0 1 0 0 0 1 0 1 0 0 1 1 0 1 0 2 0 0 1 1 0 0 1 0 1\n",
            " 1 1 0 1 1 0 0 1 0 1 1 0 0 2 0 0 2 0 0 0 0 0 0 0 0 0 1 1 0 0 1 1 0 0 0 0 1\n",
            " 0 0 0 0 0 0 1 1 0 1 0 1 0 0 0 1 0 0 0 1 0 1 1 0 0 1 0 1 1 1 1 1 0 1 0 0 0\n",
            " 0 2 1 1 0 0 1 1 2 0 0 3 0 1 1 1 0 1 0 1 0 0 0 2 0 0 0 1 1 2 0 0 0 1 1 2 1\n",
            " 0 1 1 0 0 0 1 0 1 1 1 1 2 2 1 3 1 0 2 1 0 0 2 1 1 0 1 0 1 0 1 0 1 0 3 0 0\n",
            " 0 2 0 0 1 0 2 0 0 0 0 1 1 1 0 1 0 1 0 0 0 0 0 0 0 1 1 0 0 0 0 0 0 0 0 0 0\n",
            " 0 0 0 0 2 0 1 0 0 1 0 0 0 1 0 2 1 0 0 0 0 1 0 2 1 0 0 0 1 0 1 0 0 1 1 1 1\n",
            " 0 0 1 0 0 0 2 0 0 2 1 1 0 0 0 0 2 0 0 1 0 1 1 1 0 1 1 2 2 2 0 1 1 1 0 2 1\n",
            " 1 0 0 0 0 1 0 0 0 0 1 2 1 0 0 0 0 2 0 0 0 1 1 0 0 0 1 0 0 1 0 3 1 1 1 1 0\n",
            " 1 0 1 0 2 2 1 0 1 0 0 0 1 0 1 1 1 0 1 1 0 1 0 0 1 1 0 2 1 1 3 1 1 0 0 0 1\n",
            " 1 1 2 1 2 0 0 0 1 1 1 0 0 1 0 0 1 1 0 0 1 0 1 0 2 0 1 1 1 0 1 1 0 3 0 1 0\n",
            " 0 0 0 0 0 0 0 1 0 2 1 1 2 0 1 1 0 1 0 0 1 0 1 2 0 0 0 0 0 1 1 0 0 2 1 0 2\n",
            " 1 0 0 0 0 1 1 0 0 2 0 1 1 1 0 0 1 1 2 0 1 0 1 0 2 1 0 0 0 0 0 0 0 0 0 0 0\n",
            " 1 0 2 0 0 1 0 0 1 2 1 0 1 1 0 1 1 1 0 0 0 0 0 1 0 0 2 0 1 0 0 0 0 1 0 0 0\n",
            " 0]\n"
          ]
        },
        {
          "data": {
            "image/png": "[encoded data removed]",
            "text/plain": [
              "<Figure size 640x480 with 1 Axes>"
            ]
          },
          "metadata": {},
          "output_type": "display_data"
        },
        {
          "data": {
            "image/png": "[encoded data removed]",
            "text/plain": [
              "<Figure size 640x480 with 1 Axes>"
            ]
          },
          "metadata": {},
          "output_type": "display_data"
        }
      ],
      "source": [
        "#Your code here\n",
        "\n",
        "N = 1000\n",
        "t = 3\n",
        "p = 0.2\n",
        "\n",
        "P1 = rnd.binomial(t,p,N)\n",
        "print(P1)\n",
        "\n",
        "plt.plot(P1)\n",
        "plt.show()\n",
        "plt.figure()\n",
        "plt.hist(P1, density=True, alpha=0.8, histtype='bar',\n",
        "color = 'green', ec='black')\n",
        "plt.show()"
      ]
    },
    {
      "cell_type": "markdown",
      "metadata": {
        "id": "p-LOxNmgEkJn"
      },
      "source": [
        " ### Challenge 7: Throwing a dice\n",
        "Using the 1st code in the above experiment (Flipping a coin),  throw a dice with $n=100$ times and report how many times you throw $1, 2, 3, 4, 5,$ and $6$. Use a seed of $33$. Make sure that the reported values add up to $100$. What is the theoritical probability of each event."
      ]
    },
    {
      "cell_type": "code",
      "execution_count": null,
      "metadata": {},
      "outputs": [
        {
          "name": "stdout",
          "output_type": "stream",
          "text": [
            "1 was found 17 times, with probability=0.17 & theoritical_probability=0.16666666666666666\n",
            "2 was found 17 times, with probability=0.17 & theoritical_probability=0.16666666666666666\n",
            "3 was found 15 times, with probability=0.15 & theoritical_probability=0.16666666666666666\n",
            "4 was found 24 times, with probability=0.24 & theoritical_probability=0.16666666666666666\n",
            "5 was found 19 times, with probability=0.19 & theoritical_probability=0.16666666666666666\n",
            "6 was found 8 times, with probability=0.08 & theoritical_probability=0.16666666666666666\n",
            "The reported values add up to : 100\n"
          ]
        },
        {
          "data": {
            "image/png": "[encoded data removed]",
            "text/plain": [
              "<Figure size 640x480 with 1 Axes>"
            ]
          },
          "metadata": {},
          "output_type": "display_data"
        },
        {
          "data": {
            "image/png": "[encoded data removed]",
            "text/plain": [
              "<Figure size 640x480 with 1 Axes>"
            ]
          },
          "metadata": {},
          "output_type": "display_data"
        }
      ],
      "source": [
        "\n",
        "rnd.seed(33)\n",
        "n=100\n",
        "throw = rnd.randint(0, 6, n)\n",
        "outcomes = np.zeros(6, dtype='int')\n",
        "sum = 0\n",
        "for i in range(6):\n",
        "\toutcomes[i] = np.count_nonzero(throw == i)\n",
        "\tprint(f'{i+1} was found {outcomes[i]} times, with probability={outcomes[i]/n} & theoritical_probability={1/6}')\n",
        "\tsum = sum + outcomes[i]\n",
        "print(\"The reported values add up to :\", sum)\n",
        "plt.bar(range(0, 6), outcomes/n)\n",
        "plt.xticks(range(0, 6))\n",
        "plt.xlabel('Probability of Head/tails')\n",
        "plt.ylabel('occurence in '+str(n)+' trials')\n",
        "plt.show()\n",
        "\n",
        "experiments = np.arange(100, 100001, 100)\n",
        "outcomes1 = np.zeros(len(experiments))\n",
        "outcomes2 = np.zeros(len(experiments))\n",
        "outcomes3 = np.zeros(len(experiments))\n",
        "outcomes4 = np.zeros(len(experiments))\n",
        "outcomes5 = np.zeros(len(experiments))\n",
        "outcomes6 = np.zeros(len(experiments))\n",
        "\n",
        "rnd.seed(33)\n",
        "i = 0\n",
        "for n in experiments:\n",
        "\tthrow = rnd.randint(0, 6, n)\n",
        "\toutcomes1[i] = np.count_nonzero(throw == 0)/n\n",
        "\toutcomes2[i] = np.count_nonzero(throw == 1)/n\n",
        "\toutcomes3[i] = np.count_nonzero(throw == 2)/n\n",
        "\toutcomes4[i] = np.count_nonzero(throw == 3)/n\n",
        "\toutcomes5[i] = np.count_nonzero(throw == 4)/n\n",
        "\toutcomes6[i] = np.count_nonzero(throw == 5)/n\n",
        "\ti = i + 1\n",
        "\n",
        "plt.plot(experiments, outcomes1, label='Simulation (1)')\n",
        "plt.plot(experiments, outcomes2, label='Simulation (2)')\n",
        "plt.plot(experiments, outcomes3, label='Simulation (3)')\n",
        "plt.plot(experiments, outcomes4, label='Simulation (4)')\n",
        "plt.plot(experiments, outcomes5, label='Simulation (5)')\n",
        "plt.plot(experiments, outcomes6, label='Simulation (6)')\n",
        "plt.hlines(y = 1/6, xmin = experiments[0], xmax = experiments[-1], colors=\"black\", label='Theoritical')\n",
        "plt.xlabel('Itteration $n$')\n",
        "plt.ylabel('Probability')\n",
        "plt.legend()\n",
        "plt.show()"
      ]
    },
    {
      "cell_type": "code",
      "execution_count": null,
      "metadata": {
        "id": "UEzBUmM9EkJn"
      },
      "outputs": [],
      "source": [
        "#Your code here\n",
        "\n"
      ]
    },
    {
      "cell_type": "markdown",
      "metadata": {
        "id": "KInH4IfVEkJn"
      },
      "source": [
        "Now Using the 2nd code in the Flipping a coin experiment, plot the probability simulation results and compare it with the theoritical probability."
      ]
    },
    {
      "cell_type": "code",
      "execution_count": 32,
      "metadata": {},
      "outputs": [
        {
          "name": "stdout",
          "output_type": "stream",
          "text": [
            "outcome 0 is 55 with probability=0.55\n",
            "outcome 1 is 45 with probability=0.45\n"
          ]
        },
        {
          "data": {
            "text/plain": [
              "Text(0, 0.5, 'occurence in 100 trials')"
            ]
          },
          "execution_count": 32,
          "metadata": {},
          "output_type": "execute_result"
        },
        {
          "data": {
            "image/png": "[encoded data removed]",
            "text/plain": [
              "<Figure size 640x480 with 1 Axes>"
            ]
          },
          "metadata": {},
          "output_type": "display_data"
        }
      ],
      "source": [
        "rnd.seed(10)\n",
        "n=100\n",
        "flip = rnd.randint(0, 2, n)\n",
        "\n",
        "outcomes = np.zeros(2, dtype='int') \n",
        "for i in range (2):\n",
        "    outcomes[i] = np.count_nonzero(flip == i)\n",
        "    print(f'outcome {i} is {outcomes[i]} with probability={outcomes[i]/n}')\n",
        "\n",
        "plt.bar(range(0, 2), outcomes/n)\n",
        "plt.xticks(range(0, 2))\n",
        "plt.xlabel('Probability of Head/tails')\n",
        "plt.ylabel('occurence in '+str(n)+' trials')\n",
        "\n"
      ]
    },
    {
      "cell_type": "code",
      "execution_count": null,
      "metadata": {},
      "outputs": [],
      "source": []
    },
    {
      "cell_type": "code",
      "execution_count": null,
      "metadata": {
        "id": "L4gD81IYEkJn"
      },
      "outputs": [],
      "source": [
        "#Your code here\n"
      ]
    },
    {
      "cell_type": "code",
      "execution_count": null,
      "metadata": {},
      "outputs": [],
      "source": []
    },
    {
      "cell_type": "markdown",
      "metadata": {
        "id": "rbN-Gb8bEkJn"
      },
      "source": [
        "### Challenge 8: Drawing balls from a box\n",
        "Suppose there are 12 balls in a box: 4 black, 4 red, and 4 blue. We want to make a program that draws n balls at random from the box. It is natural to represent the collection of balls as a list. Each list element can be an integer 1, 2, or 3, since we have 3 different types of balls, but it would be easier to work with the program if the balls could have a color instead of an integer number. This is easily accomplished by defining color names (See `new_box()` function below). Drawing a ball at random is performed by the `draw_ball()` function. Similarly, drawing n balls can be performed using the `draw_n_balls()` function."
      ]
    },
    {
      "cell_type": "code",
      "execution_count": 33,
      "metadata": {
        "id": "5oktHSVEEkJn"
      },
      "outputs": [],
      "source": [
        "import numpy.random as rnd\n",
        "\n",
        "def new_box():\n",
        "    colors = 'black', 'red', 'blue'   # (tuple of strings)\n",
        "    box = []\n",
        "    for color in colors:\n",
        "        for i in range(4):\n",
        "            box.append(color)\n",
        "    return box\n",
        "\n",
        "def draw_ball(box):\n",
        "    color = rnd.choice(box)\n",
        "    box.remove(color)\n",
        "    return color, box\n",
        "\n",
        "def draw_n_balls(box,n):\n",
        "# Draw n balls from the box\n",
        "    balls = []\n",
        "    for i in range(n):\n",
        "        color, box = draw_ball(box)\n",
        "        balls.append(color)\n",
        "    return balls\n"
      ]
    },
    {
      "cell_type": "markdown",
      "metadata": {
        "id": "V1fvSxEbEkJn"
      },
      "source": [
        "#### Question\n",
        "Now, we ask you to compute the probability of drawing 2 or more black balls from that box via experiemntal simulation. To do so, perform `N` experiments, count how many times `M` you get 2 or more black balls, and estimate the probability as `M/N`. Each experiment consists of making the box list, drawing a number of balls, and counting how many black balls we got. The latter task is easy with the count method in list objects: `box.count('black')` counts how many elements with value 'black' we have in the list box.\n",
        "Given:\n",
        "<ul>\n",
        "  <li>n as how  many balls are to be drawn? </li>\n",
        "  <li>N as how many experiments?</li>\n",
        "</ul>\n",
        " Write a python program using the functions defined just above to compute the required probability.\n",
        " Run your program with n=5 (drawing 5 balls each time) and N=4000 and reports the probability result.\n",
        " Try with other n values and report what differs from the obtained results."
      ]
    },
    {
      "cell_type": "code",
      "execution_count": null,
      "metadata": {
        "colab": {
          "base_uri": "https://localhost:8080/"
        },
        "id": "RwNf4RAcEkJn",
        "outputId": "951602b3-bf28-497a-bd5f-23ae932aaa0e"
      },
      "outputs": [
        {
          "name": "stdout",
          "output_type": "stream",
          "text": [
            "Drawing 1 balls each time -> Probability: 0.00\n",
            "Drawing 2 balls each time -> Probability: 0.09\n",
            "Drawing 3 balls each time -> Probability: 0.25\n",
            "Drawing 4 balls each time -> Probability: 0.41\n",
            "Drawing 5 balls each time -> Probability: 0.58\n",
            "Drawing 6 balls each time -> Probability: 0.73\n",
            "Drawing 7 balls each time -> Probability: 0.85\n"
          ]
        }
      ],
      "source": [
        "\n",
        "def experiment(n):\n",
        "    N = 4000\n",
        "    prob = 0\n",
        "    M = 0\n",
        "    for i in range(N):\n",
        "        box = new_box()\n",
        "        balls = draw_n_balls(box, n)\n",
        "        num = balls.count(\"black\")\n",
        "        if num >= 2:\n",
        "            M = M + 1\n",
        "    prob = M / N\n",
        "    print(f'Drawing {n} balls each time -> Probability: ' \"{:.2f}\".format(prob))\n",
        "\n",
        "experiment(1)\n",
        "experiment(2)\n",
        "experiment(3)\n",
        "experiment(4)\n",
        "experiment(5)\n",
        "experiment(6)\n",
        "experiment(7)"
      ]
    },
    {
      "cell_type": "markdown",
      "metadata": {
        "id": "9Ha-yzrzEkJn"
      },
      "source": [
        "## Simulating Synthetic Data using Probability Distributions\n",
        "Synthetic data is computer-generated data that is similar to real-world data. The primary purpose of synthetics data is to increase the privacy and integrity of systems. For example, to protect the Personally Identifiable Information (PII) or Personal Health Information (PHI) of the users, companies have to implement data protection strategies. Using synthetic data can help companies test new applications and protect user privacy.\n",
        "\n",
        "For this purpose, We will use the Python Faker library. Faker is an open-source Python package used to simulate a fake dataset for application testing, bootstrapping the database, and maintaining user anonymity.\n",
        "To learn about more advanced functions, check out the Faker documentation (https://faker.readthedocs.io/en/master/fakerclass.html)."
      ]
    },
    {
      "cell_type": "code",
      "execution_count": 35,
      "metadata": {
        "colab": {
          "base_uri": "https://localhost:8080/"
        },
        "id": "MBkAI_ZVEkJn",
        "outputId": "c98723f9-77a8-4cfc-fc30-2f93e478f2af"
      },
      "outputs": [
        {
          "name": "stdout",
          "output_type": "stream",
          "text": [
            "Collecting Faker\n",
            "  Downloading Faker-36.1.1-py3-none-any.whl.metadata (15 kB)\n",
            "Requirement already satisfied: tzdata in c:\\users\\raouf\\appdata\\local\\programs\\python\\python313\\lib\\site-packages (from Faker) (2025.1)\n",
            "Downloading Faker-36.1.1-py3-none-any.whl (1.9 MB)\n",
            "   ---------------------------------------- 0.0/1.9 MB ? eta -:--:--\n",
            "   ---------------------------------------- 0.0/1.9 MB ? eta -:--:--\n",
            "   ----- ---------------------------------- 0.3/1.9 MB ? eta -:--:--\n",
            "   ---------- ----------------------------- 0.5/1.9 MB 1.2 MB/s eta 0:00:02\n",
            "   ---------------- ----------------------- 0.8/1.9 MB 1.4 MB/s eta 0:00:01\n",
            "   --------------------- ------------------ 1.0/1.9 MB 1.5 MB/s eta 0:00:01\n",
            "   --------------------------- ------------ 1.3/1.9 MB 1.3 MB/s eta 0:00:01\n",
            "   ---------------------------------------- 1.9/1.9 MB 1.5 MB/s eta 0:00:00\n",
            "Installing collected packages: Faker\n",
            "Successfully installed Faker-36.1.1\n",
            "Note: you may need to restart the kernel to use updated packages.\n"
          ]
        },
        {
          "name": "stderr",
          "output_type": "stream",
          "text": [
            "\n",
            "[notice] A new release of pip is available: 24.3.1 -> 25.0.1\n",
            "[notice] To update, run: python.exe -m pip install --upgrade pip\n"
          ]
        }
      ],
      "source": [
        "%pip install Faker"
      ]
    },
    {
      "cell_type": "code",
      "execution_count": 61,
      "metadata": {
        "colab": {
          "base_uri": "https://localhost:8080/"
        },
        "id": "mbvnT51HEkJn",
        "outputId": "cacfb176-e37e-4ed4-d73a-2547da360dc8"
      },
      "outputs": [
        {
          "name": "stdout",
          "output_type": "stream",
          "text": [
            "Requirement already satisfied: pandas in c:\\users\\moulayz\\appdata\\local\\programs\\python\\python311\\lib\\site-packages (2.2.3)\n",
            "Requirement already satisfied: numpy>=1.23.2 in c:\\users\\moulayz\\appdata\\local\\programs\\python\\python311\\lib\\site-packages (from pandas) (2.2.3)\n",
            "Requirement already satisfied: python-dateutil>=2.8.2 in c:\\users\\moulayz\\appdata\\roaming\\python\\python311\\site-packages (from pandas) (2.9.0.post0)\n",
            "Requirement already satisfied: pytz>=2020.1 in c:\\users\\moulayz\\appdata\\local\\programs\\python\\python311\\lib\\site-packages (from pandas) (2025.1)\n",
            "Requirement already satisfied: tzdata>=2022.7 in c:\\users\\moulayz\\appdata\\local\\programs\\python\\python311\\lib\\site-packages (from pandas) (2024.2)\n",
            "Requirement already satisfied: six>=1.5 in c:\\users\\moulayz\\appdata\\roaming\\python\\python311\\site-packages (from python-dateutil>=2.8.2->pandas) (1.17.0)\n",
            "Note: you may need to restart the kernel to use updated packages.\n"
          ]
        },
        {
          "name": "stderr",
          "output_type": "stream",
          "text": [
            "\n",
            "[notice] A new release of pip is available: 24.3.1 -> 25.0.1\n",
            "[notice] To update, run: python.exe -m pip install --upgrade pip\n"
          ]
        }
      ],
      "source": [
        "%pip install pandas"
      ]
    },
    {
      "cell_type": "markdown",
      "metadata": {
        "id": "3h-ZSOYEEkJn"
      },
      "source": [
        "Faker comes with command line support, Pytest fixtures, Localization (support different regions), reproducibility, and dynamic provider (customizing it to your needs).\n",
        "You can also use Faker's basic functionalities to create a quick dataset and customize it to your needs. In the table below, you can check various Faker functions and the purpose.\n",
        "\n",
        "| Faker Function  | Purpose                                       |\n",
        "|-----------------|-----------------------------------------------|\n",
        "| name()          | Generates fake full name                      |\n",
        "| credit_card_full() | Generates credit card number with expiry and CVV |\n",
        "| email()         | Generates fake email address                   |\n",
        "| url()           | Generate fake URL                              |\n",
        "| phone_number()  | Generates fake phone number with country code  |\n",
        "| address()       | Generates fake full address                    |\n",
        "| license_plate() | Generates fake license plate                   |\n",
        "| currency()      | Generate tuple of currency code and full form  |\n",
        "| color_name()    | Generate random color name                     |\n",
        "| local_latlng()  | Generate latitude, longitude, area, country, and states |\n",
        "| domain_name()   | Generate the fake website based on fake person name |\n",
        "| text()          | Generate the fake small text                   |\n",
        "| company()       | Generate fake company name                     |\n",
        "\n",
        "\n",
        "\n",
        "\n"
      ]
    },
    {
      "cell_type": "markdown",
      "metadata": {
        "id": "YNE5BR4XEkJn"
      },
      "source": [
        "### Synthetic Data Simulation Examples\n",
        "In this section, we will use Python Faker to simulate synthetics data. It consists of an example of how you can use `Faker` for various tasks. The main goal is to develop a privacy-centric approach for testing systems.\n",
        "\n",
        "First, we will initiate a fake generator using `Faker()`. By default, it is using the `en_US` locale."
      ]
    },
    {
      "cell_type": "code",
      "execution_count": 38,
      "metadata": {
        "id": "2JuwNuY_EkJn"
      },
      "outputs": [],
      "source": [
        "from faker import Faker\n",
        "fake = Faker()"
      ]
    },
    {
      "cell_type": "markdown",
      "metadata": {
        "id": "ecgZbVOWEkJn"
      },
      "source": [
        "#### Example:\n",
        "In this example, we will create a pandas dataframe that contains fake data.\n",
        "\n",
        "- Create empty pandas dataframe (data)\n",
        "- Pass it through x number of loops to create multiple rows\n",
        "- Use  prebuilt  functions such as `random_int()`, `name()`, `address()`, `latitude()`, and `longitude()`  to generate the columns accordingley.\n",
        "- Use `uniform()` prebult random function to generate the `Weight` feature.\n",
        "- Run the `input_data()` function with n_rows=50"
      ]
    },
    {
      "cell_type": "code",
      "execution_count": 39,
      "metadata": {
        "colab": {
          "base_uri": "https://localhost:8080/",
          "height": 1000
        },
        "id": "nVYrwm2SEkJn",
        "outputId": "7909945f-69cb-4daf-88c0-8610564a50f3"
      },
      "outputs": [
        {
          "data": {
            "text/html": [
              "<div>\n",
              "<style scoped>\n",
              "    .dataframe tbody tr th:only-of-type {\n",
              "        vertical-align: middle;\n",
              "    }\n",
              "\n",
              "    .dataframe tbody tr th {\n",
              "        vertical-align: top;\n",
              "    }\n",
              "\n",
              "    .dataframe thead th {\n",
              "        text-align: right;\n",
              "    }\n",
              "</style>\n",
              "<table border=\"1\" class=\"dataframe\">\n",
              "  <thead>\n",
              "    <tr style=\"text-align: right;\">\n",
              "      <th></th>\n",
              "      <th>name</th>\n",
              "      <th>age</th>\n",
              "      <th>Weight</th>\n",
              "      <th>address</th>\n",
              "      <th>latitude</th>\n",
              "      <th>longitude</th>\n",
              "    </tr>\n",
              "  </thead>\n",
              "  <tbody>\n",
              "    <tr>\n",
              "      <th>0</th>\n",
              "      <td>Monica Levine</td>\n",
              "      <td>95.0</td>\n",
              "      <td>97.178528</td>\n",
              "      <td>0795 Shannon Row\\nOrrfurt, NC 92283</td>\n",
              "      <td>81.3879135</td>\n",
              "      <td>-67.373112</td>\n",
              "    </tr>\n",
              "    <tr>\n",
              "      <th>1</th>\n",
              "      <td>Kevin Gonzalez</td>\n",
              "      <td>44.0</td>\n",
              "      <td>70.055107</td>\n",
              "      <td>84849 David Oval\\nWest Steve, MA 51976</td>\n",
              "      <td>88.7463475</td>\n",
              "      <td>149.993761</td>\n",
              "    </tr>\n",
              "    <tr>\n",
              "      <th>2</th>\n",
              "      <td>Ryan Cox</td>\n",
              "      <td>69.0</td>\n",
              "      <td>82.529626</td>\n",
              "      <td>5736 John Via\\nMccarthybury, MT 34720</td>\n",
              "      <td>-76.408879</td>\n",
              "      <td>-38.803636</td>\n",
              "    </tr>\n",
              "    <tr>\n",
              "      <th>3</th>\n",
              "      <td>Matthew Hammond</td>\n",
              "      <td>59.0</td>\n",
              "      <td>87.255758</td>\n",
              "      <td>88793 Catherine Freeway\\nNew Christophercheste...</td>\n",
              "      <td>66.940709</td>\n",
              "      <td>175.972264</td>\n",
              "    </tr>\n",
              "    <tr>\n",
              "      <th>4</th>\n",
              "      <td>Victor Montgomery</td>\n",
              "      <td>93.0</td>\n",
              "      <td>97.260976</td>\n",
              "      <td>59324 Wendy Terrace\\nNew Michaelmouth, UT 42141</td>\n",
              "      <td>78.3726785</td>\n",
              "      <td>75.604685</td>\n",
              "    </tr>\n",
              "    <tr>\n",
              "      <th>5</th>\n",
              "      <td>Rachel Flowers</td>\n",
              "      <td>55.0</td>\n",
              "      <td>85.238019</td>\n",
              "      <td>41912 Gentry Extension\\nAnthonymouth, SD 44275</td>\n",
              "      <td>12.4693955</td>\n",
              "      <td>-18.644343</td>\n",
              "    </tr>\n",
              "    <tr>\n",
              "      <th>6</th>\n",
              "      <td>Nicole Lopez</td>\n",
              "      <td>43.0</td>\n",
              "      <td>81.380258</td>\n",
              "      <td>0752 Woodward Shoal\\nHerreramouth, LA 12912</td>\n",
              "      <td>16.612178</td>\n",
              "      <td>-56.643381</td>\n",
              "    </tr>\n",
              "    <tr>\n",
              "      <th>7</th>\n",
              "      <td>Abigail Johnson</td>\n",
              "      <td>37.0</td>\n",
              "      <td>71.846169</td>\n",
              "      <td>0749 Smith Squares Apt. 469\\nWest Michaelmouth...</td>\n",
              "      <td>-83.708597</td>\n",
              "      <td>151.129454</td>\n",
              "    </tr>\n",
              "    <tr>\n",
              "      <th>8</th>\n",
              "      <td>Veronica Carter</td>\n",
              "      <td>50.0</td>\n",
              "      <td>64.352572</td>\n",
              "      <td>PSC 8299, Box 4690\\nAPO AE 53181</td>\n",
              "      <td>77.672412</td>\n",
              "      <td>147.351260</td>\n",
              "    </tr>\n",
              "    <tr>\n",
              "      <th>9</th>\n",
              "      <td>Nicholas Morris</td>\n",
              "      <td>72.0</td>\n",
              "      <td>88.066720</td>\n",
              "      <td>46824 Teresa Curve Suite 107\\nSusanmouth, MH 5...</td>\n",
              "      <td>42.7380665</td>\n",
              "      <td>49.416024</td>\n",
              "    </tr>\n",
              "    <tr>\n",
              "      <th>10</th>\n",
              "      <td>Kenneth Stout</td>\n",
              "      <td>42.0</td>\n",
              "      <td>99.922493</td>\n",
              "      <td>38253 Tracy Cliff Suite 981\\nEast Tylertown, R...</td>\n",
              "      <td>30.904237</td>\n",
              "      <td>52.275832</td>\n",
              "    </tr>\n",
              "    <tr>\n",
              "      <th>11</th>\n",
              "      <td>Eric Mccann</td>\n",
              "      <td>48.0</td>\n",
              "      <td>69.456972</td>\n",
              "      <td>0795 April Causeway Apt. 529\\nSouth Rachel, ND...</td>\n",
              "      <td>58.602076</td>\n",
              "      <td>179.112348</td>\n",
              "    </tr>\n",
              "    <tr>\n",
              "      <th>12</th>\n",
              "      <td>Tiffany Walsh</td>\n",
              "      <td>63.0</td>\n",
              "      <td>99.110988</td>\n",
              "      <td>092 Jimenez Fort Apt. 095\\nPort Robertport, GU...</td>\n",
              "      <td>48.334912</td>\n",
              "      <td>-18.590414</td>\n",
              "    </tr>\n",
              "    <tr>\n",
              "      <th>13</th>\n",
              "      <td>William Collins</td>\n",
              "      <td>31.0</td>\n",
              "      <td>74.477923</td>\n",
              "      <td>740 Randy Fork\\nLake Christineburgh, VA 67291</td>\n",
              "      <td>38.727922</td>\n",
              "      <td>175.968033</td>\n",
              "    </tr>\n",
              "    <tr>\n",
              "      <th>14</th>\n",
              "      <td>Tyler Camacho</td>\n",
              "      <td>36.0</td>\n",
              "      <td>74.130272</td>\n",
              "      <td>3100 Emily Circle Suite 017\\nNicholeland, RI 1...</td>\n",
              "      <td>-89.891142</td>\n",
              "      <td>87.689869</td>\n",
              "    </tr>\n",
              "    <tr>\n",
              "      <th>15</th>\n",
              "      <td>Diana Clements</td>\n",
              "      <td>39.0</td>\n",
              "      <td>83.716131</td>\n",
              "      <td>USCGC Stephenson\\nFPO AE 35490</td>\n",
              "      <td>-63.2299875</td>\n",
              "      <td>-151.223103</td>\n",
              "    </tr>\n",
              "    <tr>\n",
              "      <th>16</th>\n",
              "      <td>Monica Dudley</td>\n",
              "      <td>88.0</td>\n",
              "      <td>84.071402</td>\n",
              "      <td>5564 Davis Trace Apt. 512\\nPort Victoriaboroug...</td>\n",
              "      <td>-83.1608615</td>\n",
              "      <td>133.061506</td>\n",
              "    </tr>\n",
              "    <tr>\n",
              "      <th>17</th>\n",
              "      <td>Valerie Chavez</td>\n",
              "      <td>32.0</td>\n",
              "      <td>88.981339</td>\n",
              "      <td>328 Jenkins Brooks\\nKevinmouth, KY 22200</td>\n",
              "      <td>-17.5124135</td>\n",
              "      <td>-166.549635</td>\n",
              "    </tr>\n",
              "    <tr>\n",
              "      <th>18</th>\n",
              "      <td>John Porter</td>\n",
              "      <td>23.0</td>\n",
              "      <td>75.803728</td>\n",
              "      <td>Unit 6576 Box 0905\\nDPO AP 27615</td>\n",
              "      <td>71.643076</td>\n",
              "      <td>86.492169</td>\n",
              "    </tr>\n",
              "    <tr>\n",
              "      <th>19</th>\n",
              "      <td>Meghan Herrera</td>\n",
              "      <td>72.0</td>\n",
              "      <td>85.139020</td>\n",
              "      <td>USS Silva\\nFPO AA 54724</td>\n",
              "      <td>-32.9294735</td>\n",
              "      <td>84.950575</td>\n",
              "    </tr>\n",
              "    <tr>\n",
              "      <th>20</th>\n",
              "      <td>Charles Thomas</td>\n",
              "      <td>73.0</td>\n",
              "      <td>74.826446</td>\n",
              "      <td>68724 Jones Island\\nRoyburgh, CT 82455</td>\n",
              "      <td>-15.178204</td>\n",
              "      <td>-61.363671</td>\n",
              "    </tr>\n",
              "    <tr>\n",
              "      <th>21</th>\n",
              "      <td>Steven Hobbs</td>\n",
              "      <td>95.0</td>\n",
              "      <td>91.083008</td>\n",
              "      <td>450 Maria Mountains\\nNorth Barbara, MA 70799</td>\n",
              "      <td>17.095520</td>\n",
              "      <td>128.800204</td>\n",
              "    </tr>\n",
              "    <tr>\n",
              "      <th>22</th>\n",
              "      <td>James Hernandez</td>\n",
              "      <td>78.0</td>\n",
              "      <td>81.688858</td>\n",
              "      <td>84973 Brittney Freeway\\nLopezville, FL 69373</td>\n",
              "      <td>69.812601</td>\n",
              "      <td>-40.120849</td>\n",
              "    </tr>\n",
              "    <tr>\n",
              "      <th>23</th>\n",
              "      <td>James Mcfarland</td>\n",
              "      <td>60.0</td>\n",
              "      <td>78.081374</td>\n",
              "      <td>19607 Cody Harbors Apt. 674\\nNorth Marvinhaven...</td>\n",
              "      <td>-41.445173</td>\n",
              "      <td>105.784966</td>\n",
              "    </tr>\n",
              "    <tr>\n",
              "      <th>24</th>\n",
              "      <td>Rhonda Vega</td>\n",
              "      <td>80.0</td>\n",
              "      <td>90.553333</td>\n",
              "      <td>8196 David Mall Apt. 581\\nEast Robertchester, ...</td>\n",
              "      <td>40.367146</td>\n",
              "      <td>-84.588248</td>\n",
              "    </tr>\n",
              "    <tr>\n",
              "      <th>25</th>\n",
              "      <td>Kathryn Baker</td>\n",
              "      <td>25.0</td>\n",
              "      <td>97.516974</td>\n",
              "      <td>005 Garza Village Apt. 823\\nRasmussenfort, HI ...</td>\n",
              "      <td>-31.1915505</td>\n",
              "      <td>-147.531481</td>\n",
              "    </tr>\n",
              "    <tr>\n",
              "      <th>26</th>\n",
              "      <td>Cheryl Reed</td>\n",
              "      <td>42.0</td>\n",
              "      <td>89.175925</td>\n",
              "      <td>744 Courtney Camp Apt. 085\\nSouth Jenniferfurt...</td>\n",
              "      <td>-35.7745115</td>\n",
              "      <td>-167.580256</td>\n",
              "    </tr>\n",
              "    <tr>\n",
              "      <th>27</th>\n",
              "      <td>William Allen</td>\n",
              "      <td>18.0</td>\n",
              "      <td>60.755324</td>\n",
              "      <td>375 Boyd Creek Apt. 966\\nNorth Belindaberg, WA...</td>\n",
              "      <td>23.309683</td>\n",
              "      <td>24.637521</td>\n",
              "    </tr>\n",
              "    <tr>\n",
              "      <th>28</th>\n",
              "      <td>Kristen Henderson</td>\n",
              "      <td>46.0</td>\n",
              "      <td>81.204765</td>\n",
              "      <td>81868 Maria Isle Suite 618\\nSmithmouth, VT 98658</td>\n",
              "      <td>-59.525402</td>\n",
              "      <td>-29.349573</td>\n",
              "    </tr>\n",
              "    <tr>\n",
              "      <th>29</th>\n",
              "      <td>Amanda Thompson</td>\n",
              "      <td>63.0</td>\n",
              "      <td>82.434150</td>\n",
              "      <td>3138 Lopez Station Suite 274\\nNorth Paulcheste...</td>\n",
              "      <td>56.5668645</td>\n",
              "      <td>155.246230</td>\n",
              "    </tr>\n",
              "    <tr>\n",
              "      <th>30</th>\n",
              "      <td>Peter Smith</td>\n",
              "      <td>36.0</td>\n",
              "      <td>80.914407</td>\n",
              "      <td>19745 Jennifer Unions\\nButlerchester, AZ 28538</td>\n",
              "      <td>-2.583088</td>\n",
              "      <td>143.703632</td>\n",
              "    </tr>\n",
              "    <tr>\n",
              "      <th>31</th>\n",
              "      <td>Matthew Fry</td>\n",
              "      <td>86.0</td>\n",
              "      <td>93.284846</td>\n",
              "      <td>6299 Bruce Parkways Suite 044\\nNorth Daniel, C...</td>\n",
              "      <td>-18.785420</td>\n",
              "      <td>-158.370106</td>\n",
              "    </tr>\n",
              "    <tr>\n",
              "      <th>32</th>\n",
              "      <td>Laurie Fuller</td>\n",
              "      <td>90.0</td>\n",
              "      <td>63.697774</td>\n",
              "      <td>046 Jeffrey Mountain Apt. 866\\nKaylaberg, VI 7...</td>\n",
              "      <td>39.4374825</td>\n",
              "      <td>25.384870</td>\n",
              "    </tr>\n",
              "    <tr>\n",
              "      <th>33</th>\n",
              "      <td>Patrick Maddox</td>\n",
              "      <td>95.0</td>\n",
              "      <td>74.582645</td>\n",
              "      <td>864 John Track\\nPort Johnville, ND 67632</td>\n",
              "      <td>32.247260</td>\n",
              "      <td>148.848738</td>\n",
              "    </tr>\n",
              "    <tr>\n",
              "      <th>34</th>\n",
              "      <td>Nicholas Nunez</td>\n",
              "      <td>91.0</td>\n",
              "      <td>67.286054</td>\n",
              "      <td>90661 Richard Extensions\\nPort Ricky, WI 48408</td>\n",
              "      <td>-15.9772765</td>\n",
              "      <td>-70.040540</td>\n",
              "    </tr>\n",
              "    <tr>\n",
              "      <th>35</th>\n",
              "      <td>Thomas Garcia</td>\n",
              "      <td>61.0</td>\n",
              "      <td>73.303554</td>\n",
              "      <td>941 Patricia Oval\\nJosephfurt, LA 49552</td>\n",
              "      <td>39.5101515</td>\n",
              "      <td>-132.647126</td>\n",
              "    </tr>\n",
              "    <tr>\n",
              "      <th>36</th>\n",
              "      <td>Alexis Mckay</td>\n",
              "      <td>29.0</td>\n",
              "      <td>90.900371</td>\n",
              "      <td>7406 Wendy Corner Apt. 424\\nNorth Aaronhaven, ...</td>\n",
              "      <td>-28.036867</td>\n",
              "      <td>-143.014098</td>\n",
              "    </tr>\n",
              "    <tr>\n",
              "      <th>37</th>\n",
              "      <td>Shaun Wilson</td>\n",
              "      <td>86.0</td>\n",
              "      <td>92.895562</td>\n",
              "      <td>895 Tiffany Road Apt. 586\\nSoniaburgh, MP 91430</td>\n",
              "      <td>-21.8564235</td>\n",
              "      <td>-107.536377</td>\n",
              "    </tr>\n",
              "    <tr>\n",
              "      <th>38</th>\n",
              "      <td>Randall Hughes</td>\n",
              "      <td>75.0</td>\n",
              "      <td>66.972187</td>\n",
              "      <td>43997 Reginald Forges\\nMatthewfort, AL 25704</td>\n",
              "      <td>27.471016</td>\n",
              "      <td>45.522586</td>\n",
              "    </tr>\n",
              "    <tr>\n",
              "      <th>39</th>\n",
              "      <td>Alan Vargas</td>\n",
              "      <td>75.0</td>\n",
              "      <td>61.906912</td>\n",
              "      <td>72680 Christopher Brook\\nPort Kaylachester, AR...</td>\n",
              "      <td>-38.410067</td>\n",
              "      <td>66.027589</td>\n",
              "    </tr>\n",
              "    <tr>\n",
              "      <th>40</th>\n",
              "      <td>Ryan Perez</td>\n",
              "      <td>29.0</td>\n",
              "      <td>65.898966</td>\n",
              "      <td>93222 Eric Orchard Suite 805\\nSouth Toddbury, ...</td>\n",
              "      <td>-1.461225</td>\n",
              "      <td>89.547708</td>\n",
              "    </tr>\n",
              "    <tr>\n",
              "      <th>41</th>\n",
              "      <td>Jeremiah Fernandez</td>\n",
              "      <td>49.0</td>\n",
              "      <td>93.483609</td>\n",
              "      <td>54187 Stephanie Crossroad\\nKimberlymouth, NC 9...</td>\n",
              "      <td>5.6195265</td>\n",
              "      <td>-11.241902</td>\n",
              "    </tr>\n",
              "    <tr>\n",
              "      <th>42</th>\n",
              "      <td>Michael Brooks</td>\n",
              "      <td>63.0</td>\n",
              "      <td>62.916854</td>\n",
              "      <td>314 Jesse Pass Suite 391\\nWest Jenniferton, NJ...</td>\n",
              "      <td>-84.939777</td>\n",
              "      <td>-122.176409</td>\n",
              "    </tr>\n",
              "    <tr>\n",
              "      <th>43</th>\n",
              "      <td>Douglas Brewer</td>\n",
              "      <td>92.0</td>\n",
              "      <td>74.902106</td>\n",
              "      <td>873 Kathryn Island\\nLake Michael, NE 15245</td>\n",
              "      <td>17.322750</td>\n",
              "      <td>172.732367</td>\n",
              "    </tr>\n",
              "    <tr>\n",
              "      <th>44</th>\n",
              "      <td>Taylor Wagner</td>\n",
              "      <td>19.0</td>\n",
              "      <td>80.135629</td>\n",
              "      <td>78611 James Throughway Apt. 291\\nSheppardside,...</td>\n",
              "      <td>-17.666612</td>\n",
              "      <td>-116.810008</td>\n",
              "    </tr>\n",
              "    <tr>\n",
              "      <th>45</th>\n",
              "      <td>Lori Munoz</td>\n",
              "      <td>49.0</td>\n",
              "      <td>77.932565</td>\n",
              "      <td>1847 Schroeder Lane Apt. 494\\nEast Christopher...</td>\n",
              "      <td>29.4385695</td>\n",
              "      <td>-6.236781</td>\n",
              "    </tr>\n",
              "    <tr>\n",
              "      <th>46</th>\n",
              "      <td>Sheila Campbell</td>\n",
              "      <td>37.0</td>\n",
              "      <td>76.214277</td>\n",
              "      <td>59746 Mariah Square Suite 842\\nSmithbury, PR 8...</td>\n",
              "      <td>24.4346825</td>\n",
              "      <td>-52.437734</td>\n",
              "    </tr>\n",
              "    <tr>\n",
              "      <th>47</th>\n",
              "      <td>Danny Perez</td>\n",
              "      <td>87.0</td>\n",
              "      <td>90.501232</td>\n",
              "      <td>01215 Taylor Terrace\\nNicholastown, NV 31544</td>\n",
              "      <td>80.941672</td>\n",
              "      <td>-103.551891</td>\n",
              "    </tr>\n",
              "    <tr>\n",
              "      <th>48</th>\n",
              "      <td>David Solis</td>\n",
              "      <td>36.0</td>\n",
              "      <td>81.556807</td>\n",
              "      <td>009 Thompson Estate Suite 676\\nJamesberg, NH 2...</td>\n",
              "      <td>40.0534075</td>\n",
              "      <td>-57.613388</td>\n",
              "    </tr>\n",
              "    <tr>\n",
              "      <th>49</th>\n",
              "      <td>David Garcia</td>\n",
              "      <td>84.0</td>\n",
              "      <td>82.591593</td>\n",
              "      <td>806 Michael Shoal Suite 488\\nPort Isaacstad, W...</td>\n",
              "      <td>63.162094</td>\n",
              "      <td>88.789943</td>\n",
              "    </tr>\n",
              "  </tbody>\n",
              "</table>\n",
              "</div>"
            ],
            "text/plain": [
              "                  name   age     Weight  \\\n",
              "0        Monica Levine  95.0  97.178528   \n",
              "1       Kevin Gonzalez  44.0  70.055107   \n",
              "2             Ryan Cox  69.0  82.529626   \n",
              "3      Matthew Hammond  59.0  87.255758   \n",
              "4    Victor Montgomery  93.0  97.260976   \n",
              "5       Rachel Flowers  55.0  85.238019   \n",
              "6         Nicole Lopez  43.0  81.380258   \n",
              "7      Abigail Johnson  37.0  71.846169   \n",
              "8      Veronica Carter  50.0  64.352572   \n",
              "9      Nicholas Morris  72.0  88.066720   \n",
              "10       Kenneth Stout  42.0  99.922493   \n",
              "11         Eric Mccann  48.0  69.456972   \n",
              "12       Tiffany Walsh  63.0  99.110988   \n",
              "13     William Collins  31.0  74.477923   \n",
              "14       Tyler Camacho  36.0  74.130272   \n",
              "15      Diana Clements  39.0  83.716131   \n",
              "16       Monica Dudley  88.0  84.071402   \n",
              "17      Valerie Chavez  32.0  88.981339   \n",
              "18         John Porter  23.0  75.803728   \n",
              "19      Meghan Herrera  72.0  85.139020   \n",
              "20      Charles Thomas  73.0  74.826446   \n",
              "21        Steven Hobbs  95.0  91.083008   \n",
              "22     James Hernandez  78.0  81.688858   \n",
              "23     James Mcfarland  60.0  78.081374   \n",
              "24         Rhonda Vega  80.0  90.553333   \n",
              "25       Kathryn Baker  25.0  97.516974   \n",
              "26         Cheryl Reed  42.0  89.175925   \n",
              "27       William Allen  18.0  60.755324   \n",
              "28   Kristen Henderson  46.0  81.204765   \n",
              "29     Amanda Thompson  63.0  82.434150   \n",
              "30         Peter Smith  36.0  80.914407   \n",
              "31         Matthew Fry  86.0  93.284846   \n",
              "32       Laurie Fuller  90.0  63.697774   \n",
              "33      Patrick Maddox  95.0  74.582645   \n",
              "34      Nicholas Nunez  91.0  67.286054   \n",
              "35       Thomas Garcia  61.0  73.303554   \n",
              "36        Alexis Mckay  29.0  90.900371   \n",
              "37        Shaun Wilson  86.0  92.895562   \n",
              "38      Randall Hughes  75.0  66.972187   \n",
              "39         Alan Vargas  75.0  61.906912   \n",
              "40          Ryan Perez  29.0  65.898966   \n",
              "41  Jeremiah Fernandez  49.0  93.483609   \n",
              "42      Michael Brooks  63.0  62.916854   \n",
              "43      Douglas Brewer  92.0  74.902106   \n",
              "44       Taylor Wagner  19.0  80.135629   \n",
              "45          Lori Munoz  49.0  77.932565   \n",
              "46     Sheila Campbell  37.0  76.214277   \n",
              "47         Danny Perez  87.0  90.501232   \n",
              "48         David Solis  36.0  81.556807   \n",
              "49        David Garcia  84.0  82.591593   \n",
              "\n",
              "                                              address     latitude  \\\n",
              "0                 0795 Shannon Row\\nOrrfurt, NC 92283   81.3879135   \n",
              "1              84849 David Oval\\nWest Steve, MA 51976   88.7463475   \n",
              "2               5736 John Via\\nMccarthybury, MT 34720   -76.408879   \n",
              "3   88793 Catherine Freeway\\nNew Christophercheste...    66.940709   \n",
              "4     59324 Wendy Terrace\\nNew Michaelmouth, UT 42141   78.3726785   \n",
              "5      41912 Gentry Extension\\nAnthonymouth, SD 44275   12.4693955   \n",
              "6         0752 Woodward Shoal\\nHerreramouth, LA 12912    16.612178   \n",
              "7   0749 Smith Squares Apt. 469\\nWest Michaelmouth...   -83.708597   \n",
              "8                    PSC 8299, Box 4690\\nAPO AE 53181    77.672412   \n",
              "9   46824 Teresa Curve Suite 107\\nSusanmouth, MH 5...   42.7380665   \n",
              "10  38253 Tracy Cliff Suite 981\\nEast Tylertown, R...    30.904237   \n",
              "11  0795 April Causeway Apt. 529\\nSouth Rachel, ND...    58.602076   \n",
              "12  092 Jimenez Fort Apt. 095\\nPort Robertport, GU...    48.334912   \n",
              "13      740 Randy Fork\\nLake Christineburgh, VA 67291    38.727922   \n",
              "14  3100 Emily Circle Suite 017\\nNicholeland, RI 1...   -89.891142   \n",
              "15                     USCGC Stephenson\\nFPO AE 35490  -63.2299875   \n",
              "16  5564 Davis Trace Apt. 512\\nPort Victoriaboroug...  -83.1608615   \n",
              "17           328 Jenkins Brooks\\nKevinmouth, KY 22200  -17.5124135   \n",
              "18                   Unit 6576 Box 0905\\nDPO AP 27615    71.643076   \n",
              "19                            USS Silva\\nFPO AA 54724  -32.9294735   \n",
              "20             68724 Jones Island\\nRoyburgh, CT 82455   -15.178204   \n",
              "21       450 Maria Mountains\\nNorth Barbara, MA 70799    17.095520   \n",
              "22       84973 Brittney Freeway\\nLopezville, FL 69373    69.812601   \n",
              "23  19607 Cody Harbors Apt. 674\\nNorth Marvinhaven...   -41.445173   \n",
              "24  8196 David Mall Apt. 581\\nEast Robertchester, ...    40.367146   \n",
              "25  005 Garza Village Apt. 823\\nRasmussenfort, HI ...  -31.1915505   \n",
              "26  744 Courtney Camp Apt. 085\\nSouth Jenniferfurt...  -35.7745115   \n",
              "27  375 Boyd Creek Apt. 966\\nNorth Belindaberg, WA...    23.309683   \n",
              "28   81868 Maria Isle Suite 618\\nSmithmouth, VT 98658   -59.525402   \n",
              "29  3138 Lopez Station Suite 274\\nNorth Paulcheste...   56.5668645   \n",
              "30     19745 Jennifer Unions\\nButlerchester, AZ 28538    -2.583088   \n",
              "31  6299 Bruce Parkways Suite 044\\nNorth Daniel, C...   -18.785420   \n",
              "32  046 Jeffrey Mountain Apt. 866\\nKaylaberg, VI 7...   39.4374825   \n",
              "33           864 John Track\\nPort Johnville, ND 67632    32.247260   \n",
              "34     90661 Richard Extensions\\nPort Ricky, WI 48408  -15.9772765   \n",
              "35            941 Patricia Oval\\nJosephfurt, LA 49552   39.5101515   \n",
              "36  7406 Wendy Corner Apt. 424\\nNorth Aaronhaven, ...   -28.036867   \n",
              "37    895 Tiffany Road Apt. 586\\nSoniaburgh, MP 91430  -21.8564235   \n",
              "38       43997 Reginald Forges\\nMatthewfort, AL 25704    27.471016   \n",
              "39  72680 Christopher Brook\\nPort Kaylachester, AR...   -38.410067   \n",
              "40  93222 Eric Orchard Suite 805\\nSouth Toddbury, ...    -1.461225   \n",
              "41  54187 Stephanie Crossroad\\nKimberlymouth, NC 9...    5.6195265   \n",
              "42  314 Jesse Pass Suite 391\\nWest Jenniferton, NJ...   -84.939777   \n",
              "43         873 Kathryn Island\\nLake Michael, NE 15245    17.322750   \n",
              "44  78611 James Throughway Apt. 291\\nSheppardside,...   -17.666612   \n",
              "45  1847 Schroeder Lane Apt. 494\\nEast Christopher...   29.4385695   \n",
              "46  59746 Mariah Square Suite 842\\nSmithbury, PR 8...   24.4346825   \n",
              "47       01215 Taylor Terrace\\nNicholastown, NV 31544    80.941672   \n",
              "48  009 Thompson Estate Suite 676\\nJamesberg, NH 2...   40.0534075   \n",
              "49  806 Michael Shoal Suite 488\\nPort Isaacstad, W...    63.162094   \n",
              "\n",
              "      longitude  \n",
              "0    -67.373112  \n",
              "1    149.993761  \n",
              "2    -38.803636  \n",
              "3    175.972264  \n",
              "4     75.604685  \n",
              "5    -18.644343  \n",
              "6    -56.643381  \n",
              "7    151.129454  \n",
              "8    147.351260  \n",
              "9     49.416024  \n",
              "10    52.275832  \n",
              "11   179.112348  \n",
              "12   -18.590414  \n",
              "13   175.968033  \n",
              "14    87.689869  \n",
              "15  -151.223103  \n",
              "16   133.061506  \n",
              "17  -166.549635  \n",
              "18    86.492169  \n",
              "19    84.950575  \n",
              "20   -61.363671  \n",
              "21   128.800204  \n",
              "22   -40.120849  \n",
              "23   105.784966  \n",
              "24   -84.588248  \n",
              "25  -147.531481  \n",
              "26  -167.580256  \n",
              "27    24.637521  \n",
              "28   -29.349573  \n",
              "29   155.246230  \n",
              "30   143.703632  \n",
              "31  -158.370106  \n",
              "32    25.384870  \n",
              "33   148.848738  \n",
              "34   -70.040540  \n",
              "35  -132.647126  \n",
              "36  -143.014098  \n",
              "37  -107.536377  \n",
              "38    45.522586  \n",
              "39    66.027589  \n",
              "40    89.547708  \n",
              "41   -11.241902  \n",
              "42  -122.176409  \n",
              "43   172.732367  \n",
              "44  -116.810008  \n",
              "45    -6.236781  \n",
              "46   -52.437734  \n",
              "47  -103.551891  \n",
              "48   -57.613388  \n",
              "49    88.789943  "
            ]
          },
          "execution_count": 39,
          "metadata": {},
          "output_type": "execute_result"
        }
      ],
      "source": [
        "from random import randint\n",
        "import pandas as pd\n",
        "import random\n",
        "\n",
        "fake = Faker()\n",
        "\n",
        "def input_data(n_rows):\n",
        "\n",
        "    data = pd.DataFrame()\n",
        "    for i in range(0, n_rows):\n",
        "        data.loc[i,'name']= fake.name()\n",
        "        data.loc[i,'age']= fake.random_int(18, 100)\n",
        "        data.loc[i,'Weight']= random.uniform(60, 100)\n",
        "        data.loc[i,'address']= fake.address()\n",
        "        data.loc[i,'latitude']= str(fake.latitude())\n",
        "        data.loc[i,'longitude']= str(fake.longitude())\n",
        "    return data\n",
        "\n",
        "\n",
        "input_data(50)"
      ]
    },
    {
      "cell_type": "markdown",
      "metadata": {
        "id": "G8wFFbqDEkJn"
      },
      "source": [
        "### Challenge 9:\n",
        "Update the  example above so that you:\n",
        "- Generate a `height` feature following a gaussian distribution of with mu=180 cm and a std_deviation=15.5 cm.\n",
        "- Generate a `bmi` feature where bmi = Weight / (height (in meter) **2)."
      ]
    },
    {
      "cell_type": "code",
      "execution_count": 40,
      "metadata": {},
      "outputs": [
        {
          "data": {
            "text/html": [
              "<div>\n",
              "<style scoped>\n",
              "    .dataframe tbody tr th:only-of-type {\n",
              "        vertical-align: middle;\n",
              "    }\n",
              "\n",
              "    .dataframe tbody tr th {\n",
              "        vertical-align: top;\n",
              "    }\n",
              "\n",
              "    .dataframe thead th {\n",
              "        text-align: right;\n",
              "    }\n",
              "</style>\n",
              "<table border=\"1\" class=\"dataframe\">\n",
              "  <thead>\n",
              "    <tr style=\"text-align: right;\">\n",
              "      <th></th>\n",
              "      <th>name</th>\n",
              "      <th>age</th>\n",
              "      <th>Weight</th>\n",
              "      <th>height</th>\n",
              "      <th>bmi</th>\n",
              "      <th>address</th>\n",
              "      <th>latitude</th>\n",
              "      <th>longitude</th>\n",
              "    </tr>\n",
              "  </thead>\n",
              "  <tbody>\n",
              "    <tr>\n",
              "      <th>0</th>\n",
              "      <td>Samuel Douglas</td>\n",
              "      <td>59.0</td>\n",
              "      <td>72.163259</td>\n",
              "      <td>182.795244</td>\n",
              "      <td>21.596648</td>\n",
              "      <td>266 Eric Square Suite 480\\nAcevedoborough, SC ...</td>\n",
              "      <td>-30.5992625</td>\n",
              "      <td>112.391410</td>\n",
              "    </tr>\n",
              "    <tr>\n",
              "      <th>1</th>\n",
              "      <td>Travis Wright</td>\n",
              "      <td>81.0</td>\n",
              "      <td>83.995364</td>\n",
              "      <td>163.431840</td>\n",
              "      <td>31.447199</td>\n",
              "      <td>37406 Nicole Orchard Apt. 164\\nLake Patrick, T...</td>\n",
              "      <td>35.176805</td>\n",
              "      <td>-143.883271</td>\n",
              "    </tr>\n",
              "    <tr>\n",
              "      <th>2</th>\n",
              "      <td>Christopher Williams</td>\n",
              "      <td>85.0</td>\n",
              "      <td>75.021490</td>\n",
              "      <td>172.723324</td>\n",
              "      <td>25.146857</td>\n",
              "      <td>2839 Phillips Estates Apt. 595\\nBowmanfurt, NY...</td>\n",
              "      <td>-29.0972255</td>\n",
              "      <td>78.133381</td>\n",
              "    </tr>\n",
              "    <tr>\n",
              "      <th>3</th>\n",
              "      <td>Steven Wilson</td>\n",
              "      <td>90.0</td>\n",
              "      <td>91.791385</td>\n",
              "      <td>177.441372</td>\n",
              "      <td>29.153597</td>\n",
              "      <td>22623 Fox Hollow Suite 288\\nMorenoburgh, VI 03046</td>\n",
              "      <td>87.253188</td>\n",
              "      <td>131.815012</td>\n",
              "    </tr>\n",
              "    <tr>\n",
              "      <th>4</th>\n",
              "      <td>Amber Chen</td>\n",
              "      <td>100.0</td>\n",
              "      <td>65.260842</td>\n",
              "      <td>175.401121</td>\n",
              "      <td>21.212309</td>\n",
              "      <td>6076 Bennett Garden Apt. 880\\nEast Tiffanyfurt...</td>\n",
              "      <td>84.400140</td>\n",
              "      <td>-74.778631</td>\n",
              "    </tr>\n",
              "    <tr>\n",
              "      <th>5</th>\n",
              "      <td>Nancy Hudson</td>\n",
              "      <td>36.0</td>\n",
              "      <td>73.731562</td>\n",
              "      <td>171.553072</td>\n",
              "      <td>25.052809</td>\n",
              "      <td>8639 Miller Knolls\\nBryanstad, KY 72204</td>\n",
              "      <td>83.7982975</td>\n",
              "      <td>-117.227554</td>\n",
              "    </tr>\n",
              "    <tr>\n",
              "      <th>6</th>\n",
              "      <td>Pamela Sparks</td>\n",
              "      <td>44.0</td>\n",
              "      <td>90.594964</td>\n",
              "      <td>186.407624</td>\n",
              "      <td>26.072142</td>\n",
              "      <td>1063 Eric Trail Suite 948\\nEast Tracy, HI 56981</td>\n",
              "      <td>70.4444375</td>\n",
              "      <td>-96.676179</td>\n",
              "    </tr>\n",
              "    <tr>\n",
              "      <th>7</th>\n",
              "      <td>Jessica Brooks</td>\n",
              "      <td>57.0</td>\n",
              "      <td>80.796155</td>\n",
              "      <td>185.604880</td>\n",
              "      <td>23.453730</td>\n",
              "      <td>64183 Brian Dam\\nWest Justinmouth, TN 12269</td>\n",
              "      <td>-24.1775655</td>\n",
              "      <td>-107.567128</td>\n",
              "    </tr>\n",
              "    <tr>\n",
              "      <th>8</th>\n",
              "      <td>Joshua Anthony</td>\n",
              "      <td>55.0</td>\n",
              "      <td>91.145107</td>\n",
              "      <td>165.835644</td>\n",
              "      <td>33.141915</td>\n",
              "      <td>093 Cherry Island\\nSmithborough, MP 62616</td>\n",
              "      <td>76.3767645</td>\n",
              "      <td>-120.736960</td>\n",
              "    </tr>\n",
              "    <tr>\n",
              "      <th>9</th>\n",
              "      <td>Rebecca Howell</td>\n",
              "      <td>100.0</td>\n",
              "      <td>77.188769</td>\n",
              "      <td>147.493789</td>\n",
              "      <td>35.481882</td>\n",
              "      <td>18114 James Green\\nKatelynton, ME 34047</td>\n",
              "      <td>71.091695</td>\n",
              "      <td>173.524668</td>\n",
              "    </tr>\n",
              "    <tr>\n",
              "      <th>10</th>\n",
              "      <td>Nathan Walker</td>\n",
              "      <td>21.0</td>\n",
              "      <td>84.895686</td>\n",
              "      <td>173.596695</td>\n",
              "      <td>28.171029</td>\n",
              "      <td>489 Susan Wall Apt. 411\\nWilsonmouth, GA 09851</td>\n",
              "      <td>-46.281059</td>\n",
              "      <td>-155.438625</td>\n",
              "    </tr>\n",
              "    <tr>\n",
              "      <th>11</th>\n",
              "      <td>Reginald Ruiz</td>\n",
              "      <td>98.0</td>\n",
              "      <td>60.481476</td>\n",
              "      <td>176.607493</td>\n",
              "      <td>19.391175</td>\n",
              "      <td>7379 Adam Shoals Apt. 569\\nJonathanton, WA 54845</td>\n",
              "      <td>-4.825314</td>\n",
              "      <td>-138.903731</td>\n",
              "    </tr>\n",
              "    <tr>\n",
              "      <th>12</th>\n",
              "      <td>Mrs. Brandy Carrillo</td>\n",
              "      <td>21.0</td>\n",
              "      <td>64.156053</td>\n",
              "      <td>145.423685</td>\n",
              "      <td>30.336631</td>\n",
              "      <td>862 Jose Highway Apt. 255\\nNorth Jasonland, PW...</td>\n",
              "      <td>-47.4065655</td>\n",
              "      <td>-3.866930</td>\n",
              "    </tr>\n",
              "    <tr>\n",
              "      <th>13</th>\n",
              "      <td>Janet Melton</td>\n",
              "      <td>59.0</td>\n",
              "      <td>96.758161</td>\n",
              "      <td>158.453534</td>\n",
              "      <td>38.537519</td>\n",
              "      <td>68479 Joe Trafficway Suite 672\\nPort Joseph, M...</td>\n",
              "      <td>-30.2420805</td>\n",
              "      <td>-107.429786</td>\n",
              "    </tr>\n",
              "    <tr>\n",
              "      <th>14</th>\n",
              "      <td>Richard Smith</td>\n",
              "      <td>58.0</td>\n",
              "      <td>61.630490</td>\n",
              "      <td>202.943986</td>\n",
              "      <td>14.963847</td>\n",
              "      <td>30835 Jeff Crest\\nTerrymouth, KS 12599</td>\n",
              "      <td>-10.938086</td>\n",
              "      <td>149.679213</td>\n",
              "    </tr>\n",
              "    <tr>\n",
              "      <th>15</th>\n",
              "      <td>Elizabeth Fernandez</td>\n",
              "      <td>21.0</td>\n",
              "      <td>75.314885</td>\n",
              "      <td>175.244829</td>\n",
              "      <td>24.523949</td>\n",
              "      <td>33297 Rollins Point Suite 425\\nKempstad, VA 21257</td>\n",
              "      <td>-44.5230325</td>\n",
              "      <td>-3.676804</td>\n",
              "    </tr>\n",
              "    <tr>\n",
              "      <th>16</th>\n",
              "      <td>Jaime English</td>\n",
              "      <td>78.0</td>\n",
              "      <td>70.994570</td>\n",
              "      <td>177.829521</td>\n",
              "      <td>22.450055</td>\n",
              "      <td>14091 Sean Summit\\nNataliebury, RI 25038</td>\n",
              "      <td>12.112119</td>\n",
              "      <td>-5.886670</td>\n",
              "    </tr>\n",
              "    <tr>\n",
              "      <th>17</th>\n",
              "      <td>Calvin Jackson</td>\n",
              "      <td>43.0</td>\n",
              "      <td>73.181235</td>\n",
              "      <td>170.377192</td>\n",
              "      <td>25.210231</td>\n",
              "      <td>53357 Barnett Parkways Suite 491\\nRobertmouth,...</td>\n",
              "      <td>-24.014096</td>\n",
              "      <td>65.777341</td>\n",
              "    </tr>\n",
              "    <tr>\n",
              "      <th>18</th>\n",
              "      <td>Brianna Dunn</td>\n",
              "      <td>61.0</td>\n",
              "      <td>92.745029</td>\n",
              "      <td>181.219349</td>\n",
              "      <td>28.241094</td>\n",
              "      <td>35943 Angela Station\\nLake Linda, IN 93259</td>\n",
              "      <td>-23.0846895</td>\n",
              "      <td>-118.357084</td>\n",
              "    </tr>\n",
              "    <tr>\n",
              "      <th>19</th>\n",
              "      <td>Kristen Gaines</td>\n",
              "      <td>32.0</td>\n",
              "      <td>77.578861</td>\n",
              "      <td>183.897003</td>\n",
              "      <td>22.940036</td>\n",
              "      <td>911 Leslie Circles Apt. 774\\nLake Jeffreytown,...</td>\n",
              "      <td>48.5729015</td>\n",
              "      <td>110.831413</td>\n",
              "    </tr>\n",
              "    <tr>\n",
              "      <th>20</th>\n",
              "      <td>Lindsey Woodard</td>\n",
              "      <td>59.0</td>\n",
              "      <td>83.910088</td>\n",
              "      <td>186.068675</td>\n",
              "      <td>24.236374</td>\n",
              "      <td>48115 Douglas Mall Apt. 288\\nBrandontown, ME 7...</td>\n",
              "      <td>-34.9630885</td>\n",
              "      <td>78.555413</td>\n",
              "    </tr>\n",
              "    <tr>\n",
              "      <th>21</th>\n",
              "      <td>Kyle Wheeler</td>\n",
              "      <td>65.0</td>\n",
              "      <td>81.995406</td>\n",
              "      <td>198.507223</td>\n",
              "      <td>20.808314</td>\n",
              "      <td>6487 Henry Falls\\nNorth Michael, WA 85660</td>\n",
              "      <td>-10.257924</td>\n",
              "      <td>-54.837744</td>\n",
              "    </tr>\n",
              "    <tr>\n",
              "      <th>22</th>\n",
              "      <td>Nicholas Rowe</td>\n",
              "      <td>68.0</td>\n",
              "      <td>68.590072</td>\n",
              "      <td>195.836138</td>\n",
              "      <td>17.884450</td>\n",
              "      <td>53923 Henry Dale Suite 254\\nLake Jeffreyville,...</td>\n",
              "      <td>29.569607</td>\n",
              "      <td>-124.431646</td>\n",
              "    </tr>\n",
              "    <tr>\n",
              "      <th>23</th>\n",
              "      <td>Brandon Morris</td>\n",
              "      <td>64.0</td>\n",
              "      <td>98.779328</td>\n",
              "      <td>177.253034</td>\n",
              "      <td>31.439723</td>\n",
              "      <td>626 White Squares Suite 265\\nChristineland, WV...</td>\n",
              "      <td>-64.0030015</td>\n",
              "      <td>-138.849643</td>\n",
              "    </tr>\n",
              "    <tr>\n",
              "      <th>24</th>\n",
              "      <td>John Eaton</td>\n",
              "      <td>85.0</td>\n",
              "      <td>71.572925</td>\n",
              "      <td>176.803424</td>\n",
              "      <td>22.896412</td>\n",
              "      <td>0636 Henson Run\\nNew Kiarafort, WI 32739</td>\n",
              "      <td>-52.2143895</td>\n",
              "      <td>-56.869419</td>\n",
              "    </tr>\n",
              "    <tr>\n",
              "      <th>25</th>\n",
              "      <td>Matthew Goodwin</td>\n",
              "      <td>36.0</td>\n",
              "      <td>73.031761</td>\n",
              "      <td>185.474827</td>\n",
              "      <td>21.229600</td>\n",
              "      <td>22016 Farmer Plains Suite 779\\nWest Rubenburgh...</td>\n",
              "      <td>-66.9429955</td>\n",
              "      <td>-173.792299</td>\n",
              "    </tr>\n",
              "    <tr>\n",
              "      <th>26</th>\n",
              "      <td>Donald Hutchinson</td>\n",
              "      <td>27.0</td>\n",
              "      <td>90.869474</td>\n",
              "      <td>210.582121</td>\n",
              "      <td>20.491560</td>\n",
              "      <td>588 Bailey Forge\\nBullockland, VI 90494</td>\n",
              "      <td>51.166116</td>\n",
              "      <td>73.705983</td>\n",
              "    </tr>\n",
              "    <tr>\n",
              "      <th>27</th>\n",
              "      <td>Tony Martin</td>\n",
              "      <td>32.0</td>\n",
              "      <td>70.921461</td>\n",
              "      <td>184.402384</td>\n",
              "      <td>20.856653</td>\n",
              "      <td>49614 Brian Walk\\nEast Veronicaview, DC 59927</td>\n",
              "      <td>-44.077630</td>\n",
              "      <td>34.551636</td>\n",
              "    </tr>\n",
              "    <tr>\n",
              "      <th>28</th>\n",
              "      <td>John Patterson Jr.</td>\n",
              "      <td>35.0</td>\n",
              "      <td>83.194463</td>\n",
              "      <td>161.953851</td>\n",
              "      <td>31.718443</td>\n",
              "      <td>3194 Garcia Valleys\\nKimberlyville, FL 05554</td>\n",
              "      <td>-47.6976245</td>\n",
              "      <td>178.754293</td>\n",
              "    </tr>\n",
              "    <tr>\n",
              "      <th>29</th>\n",
              "      <td>Megan Harris</td>\n",
              "      <td>64.0</td>\n",
              "      <td>64.354101</td>\n",
              "      <td>180.522574</td>\n",
              "      <td>19.747549</td>\n",
              "      <td>2327 Nicole Points Apt. 295\\nHansonfort, VA 51350</td>\n",
              "      <td>-41.8339255</td>\n",
              "      <td>69.582192</td>\n",
              "    </tr>\n",
              "    <tr>\n",
              "      <th>30</th>\n",
              "      <td>Jacob Stark</td>\n",
              "      <td>55.0</td>\n",
              "      <td>89.572238</td>\n",
              "      <td>176.634571</td>\n",
              "      <td>28.709261</td>\n",
              "      <td>07651 Jessica Haven\\nNorth Toddfurt, KY 30482</td>\n",
              "      <td>55.570481</td>\n",
              "      <td>60.547200</td>\n",
              "    </tr>\n",
              "    <tr>\n",
              "      <th>31</th>\n",
              "      <td>David Burns</td>\n",
              "      <td>41.0</td>\n",
              "      <td>69.449285</td>\n",
              "      <td>186.933705</td>\n",
              "      <td>19.874333</td>\n",
              "      <td>0210 Denise Villages\\nEast Michael, CT 02640</td>\n",
              "      <td>-89.826880</td>\n",
              "      <td>-34.479409</td>\n",
              "    </tr>\n",
              "    <tr>\n",
              "      <th>32</th>\n",
              "      <td>Michael Ramsey</td>\n",
              "      <td>51.0</td>\n",
              "      <td>69.198499</td>\n",
              "      <td>193.217174</td>\n",
              "      <td>18.535539</td>\n",
              "      <td>31190 Cain Trafficway Apt. 397\\nNew Vanessa, M...</td>\n",
              "      <td>54.0606145</td>\n",
              "      <td>-130.217000</td>\n",
              "    </tr>\n",
              "    <tr>\n",
              "      <th>33</th>\n",
              "      <td>April Smith</td>\n",
              "      <td>80.0</td>\n",
              "      <td>86.979680</td>\n",
              "      <td>174.854889</td>\n",
              "      <td>28.448688</td>\n",
              "      <td>242 Chen Turnpike Suite 457\\nSouth Matthew, WV...</td>\n",
              "      <td>26.453179</td>\n",
              "      <td>131.287980</td>\n",
              "    </tr>\n",
              "    <tr>\n",
              "      <th>34</th>\n",
              "      <td>Gregory Zimmerman PhD</td>\n",
              "      <td>52.0</td>\n",
              "      <td>68.255918</td>\n",
              "      <td>201.494908</td>\n",
              "      <td>16.811721</td>\n",
              "      <td>416 Graham Views\\nLake Rebecca, CT 20990</td>\n",
              "      <td>-18.5220945</td>\n",
              "      <td>-162.587412</td>\n",
              "    </tr>\n",
              "    <tr>\n",
              "      <th>35</th>\n",
              "      <td>Steven Carter</td>\n",
              "      <td>60.0</td>\n",
              "      <td>97.134124</td>\n",
              "      <td>187.099501</td>\n",
              "      <td>27.747673</td>\n",
              "      <td>73302 Mcintosh Haven Suite 296\\nSwansonland, G...</td>\n",
              "      <td>-54.1876275</td>\n",
              "      <td>-147.877992</td>\n",
              "    </tr>\n",
              "    <tr>\n",
              "      <th>36</th>\n",
              "      <td>Amber Robinson</td>\n",
              "      <td>23.0</td>\n",
              "      <td>88.206230</td>\n",
              "      <td>164.567809</td>\n",
              "      <td>32.569380</td>\n",
              "      <td>8649 Herring Fords Suite 237\\nWest Christineha...</td>\n",
              "      <td>-83.024217</td>\n",
              "      <td>52.629123</td>\n",
              "    </tr>\n",
              "    <tr>\n",
              "      <th>37</th>\n",
              "      <td>Jared Ellis</td>\n",
              "      <td>75.0</td>\n",
              "      <td>86.776163</td>\n",
              "      <td>195.398072</td>\n",
              "      <td>22.727930</td>\n",
              "      <td>42207 James Harbor\\nStacychester, GU 81415</td>\n",
              "      <td>-40.598697</td>\n",
              "      <td>-90.972528</td>\n",
              "    </tr>\n",
              "    <tr>\n",
              "      <th>38</th>\n",
              "      <td>Sheryl Lindsey</td>\n",
              "      <td>67.0</td>\n",
              "      <td>87.500103</td>\n",
              "      <td>188.497585</td>\n",
              "      <td>24.626176</td>\n",
              "      <td>2688 Holly Club Apt. 917\\nNorth Patrick, LA 59989</td>\n",
              "      <td>-54.639859</td>\n",
              "      <td>155.782702</td>\n",
              "    </tr>\n",
              "    <tr>\n",
              "      <th>39</th>\n",
              "      <td>William Terry</td>\n",
              "      <td>70.0</td>\n",
              "      <td>64.258935</td>\n",
              "      <td>164.203067</td>\n",
              "      <td>23.832576</td>\n",
              "      <td>5761 Tanner Corners Suite 656\\nRichardsland, V...</td>\n",
              "      <td>-48.405584</td>\n",
              "      <td>-138.446924</td>\n",
              "    </tr>\n",
              "    <tr>\n",
              "      <th>40</th>\n",
              "      <td>Mrs. Lori Huffman</td>\n",
              "      <td>18.0</td>\n",
              "      <td>84.754127</td>\n",
              "      <td>157.439893</td>\n",
              "      <td>34.192534</td>\n",
              "      <td>89798 Mary Isle Apt. 549\\nLake Erik, AK 92403</td>\n",
              "      <td>32.2224725</td>\n",
              "      <td>36.782996</td>\n",
              "    </tr>\n",
              "    <tr>\n",
              "      <th>41</th>\n",
              "      <td>Christopher Miller</td>\n",
              "      <td>22.0</td>\n",
              "      <td>69.292890</td>\n",
              "      <td>159.386573</td>\n",
              "      <td>27.276284</td>\n",
              "      <td>6794 Davis Expressway\\nNorth Wesley, PW 11785</td>\n",
              "      <td>11.1442145</td>\n",
              "      <td>39.061113</td>\n",
              "    </tr>\n",
              "    <tr>\n",
              "      <th>42</th>\n",
              "      <td>Rodney Sandoval</td>\n",
              "      <td>87.0</td>\n",
              "      <td>95.678678</td>\n",
              "      <td>208.544348</td>\n",
              "      <td>21.999779</td>\n",
              "      <td>9279 Rachel Green Suite 745\\nGreenmouth, AL 43809</td>\n",
              "      <td>-23.9739645</td>\n",
              "      <td>-100.012219</td>\n",
              "    </tr>\n",
              "    <tr>\n",
              "      <th>43</th>\n",
              "      <td>Amber Silva DDS</td>\n",
              "      <td>99.0</td>\n",
              "      <td>90.415702</td>\n",
              "      <td>178.647379</td>\n",
              "      <td>28.330260</td>\n",
              "      <td>384 Williams Branch\\nRogerfort, AK 93092</td>\n",
              "      <td>-26.1211665</td>\n",
              "      <td>-47.134583</td>\n",
              "    </tr>\n",
              "    <tr>\n",
              "      <th>44</th>\n",
              "      <td>Roger Rivera</td>\n",
              "      <td>31.0</td>\n",
              "      <td>99.564956</td>\n",
              "      <td>177.404957</td>\n",
              "      <td>31.635522</td>\n",
              "      <td>5410 David Lake\\nSellersburgh, SD 69465</td>\n",
              "      <td>-43.8468795</td>\n",
              "      <td>-30.048297</td>\n",
              "    </tr>\n",
              "    <tr>\n",
              "      <th>45</th>\n",
              "      <td>Justin Stokes</td>\n",
              "      <td>90.0</td>\n",
              "      <td>73.372195</td>\n",
              "      <td>176.829223</td>\n",
              "      <td>23.465155</td>\n",
              "      <td>76763 Medina Hill\\nLake David, MD 86602</td>\n",
              "      <td>35.1466385</td>\n",
              "      <td>164.605003</td>\n",
              "    </tr>\n",
              "    <tr>\n",
              "      <th>46</th>\n",
              "      <td>Nicole Davis</td>\n",
              "      <td>75.0</td>\n",
              "      <td>72.089521</td>\n",
              "      <td>145.108457</td>\n",
              "      <td>34.236290</td>\n",
              "      <td>PSC 9665, Box 4302\\nAPO AE 01024</td>\n",
              "      <td>-75.0554865</td>\n",
              "      <td>-83.827301</td>\n",
              "    </tr>\n",
              "    <tr>\n",
              "      <th>47</th>\n",
              "      <td>Gregory Williams</td>\n",
              "      <td>65.0</td>\n",
              "      <td>79.428071</td>\n",
              "      <td>170.213790</td>\n",
              "      <td>27.414765</td>\n",
              "      <td>52274 Paula Ports Apt. 958\\nNew Jasonland, MT ...</td>\n",
              "      <td>43.868346</td>\n",
              "      <td>-156.562548</td>\n",
              "    </tr>\n",
              "    <tr>\n",
              "      <th>48</th>\n",
              "      <td>Joseph Berry</td>\n",
              "      <td>78.0</td>\n",
              "      <td>62.020590</td>\n",
              "      <td>185.556370</td>\n",
              "      <td>18.012922</td>\n",
              "      <td>9528 Juan Unions Suite 468\\nNorth Jeremy, NH 6...</td>\n",
              "      <td>-33.244755</td>\n",
              "      <td>-45.983276</td>\n",
              "    </tr>\n",
              "    <tr>\n",
              "      <th>49</th>\n",
              "      <td>Maria Hall</td>\n",
              "      <td>63.0</td>\n",
              "      <td>95.280601</td>\n",
              "      <td>122.738083</td>\n",
              "      <td>63.247857</td>\n",
              "      <td>4861 Butler Trace\\nEast Carlosside, WY 64404</td>\n",
              "      <td>7.5706375</td>\n",
              "      <td>-109.080440</td>\n",
              "    </tr>\n",
              "  </tbody>\n",
              "</table>\n",
              "</div>"
            ],
            "text/plain": [
              "                     name    age     Weight      height        bmi  \\\n",
              "0          Samuel Douglas   59.0  72.163259  182.795244  21.596648   \n",
              "1           Travis Wright   81.0  83.995364  163.431840  31.447199   \n",
              "2    Christopher Williams   85.0  75.021490  172.723324  25.146857   \n",
              "3           Steven Wilson   90.0  91.791385  177.441372  29.153597   \n",
              "4              Amber Chen  100.0  65.260842  175.401121  21.212309   \n",
              "5            Nancy Hudson   36.0  73.731562  171.553072  25.052809   \n",
              "6           Pamela Sparks   44.0  90.594964  186.407624  26.072142   \n",
              "7          Jessica Brooks   57.0  80.796155  185.604880  23.453730   \n",
              "8          Joshua Anthony   55.0  91.145107  165.835644  33.141915   \n",
              "9          Rebecca Howell  100.0  77.188769  147.493789  35.481882   \n",
              "10          Nathan Walker   21.0  84.895686  173.596695  28.171029   \n",
              "11          Reginald Ruiz   98.0  60.481476  176.607493  19.391175   \n",
              "12   Mrs. Brandy Carrillo   21.0  64.156053  145.423685  30.336631   \n",
              "13           Janet Melton   59.0  96.758161  158.453534  38.537519   \n",
              "14          Richard Smith   58.0  61.630490  202.943986  14.963847   \n",
              "15    Elizabeth Fernandez   21.0  75.314885  175.244829  24.523949   \n",
              "16          Jaime English   78.0  70.994570  177.829521  22.450055   \n",
              "17         Calvin Jackson   43.0  73.181235  170.377192  25.210231   \n",
              "18           Brianna Dunn   61.0  92.745029  181.219349  28.241094   \n",
              "19         Kristen Gaines   32.0  77.578861  183.897003  22.940036   \n",
              "20        Lindsey Woodard   59.0  83.910088  186.068675  24.236374   \n",
              "21           Kyle Wheeler   65.0  81.995406  198.507223  20.808314   \n",
              "22          Nicholas Rowe   68.0  68.590072  195.836138  17.884450   \n",
              "23         Brandon Morris   64.0  98.779328  177.253034  31.439723   \n",
              "24             John Eaton   85.0  71.572925  176.803424  22.896412   \n",
              "25        Matthew Goodwin   36.0  73.031761  185.474827  21.229600   \n",
              "26      Donald Hutchinson   27.0  90.869474  210.582121  20.491560   \n",
              "27            Tony Martin   32.0  70.921461  184.402384  20.856653   \n",
              "28     John Patterson Jr.   35.0  83.194463  161.953851  31.718443   \n",
              "29           Megan Harris   64.0  64.354101  180.522574  19.747549   \n",
              "30            Jacob Stark   55.0  89.572238  176.634571  28.709261   \n",
              "31            David Burns   41.0  69.449285  186.933705  19.874333   \n",
              "32         Michael Ramsey   51.0  69.198499  193.217174  18.535539   \n",
              "33            April Smith   80.0  86.979680  174.854889  28.448688   \n",
              "34  Gregory Zimmerman PhD   52.0  68.255918  201.494908  16.811721   \n",
              "35          Steven Carter   60.0  97.134124  187.099501  27.747673   \n",
              "36         Amber Robinson   23.0  88.206230  164.567809  32.569380   \n",
              "37            Jared Ellis   75.0  86.776163  195.398072  22.727930   \n",
              "38         Sheryl Lindsey   67.0  87.500103  188.497585  24.626176   \n",
              "39          William Terry   70.0  64.258935  164.203067  23.832576   \n",
              "40      Mrs. Lori Huffman   18.0  84.754127  157.439893  34.192534   \n",
              "41     Christopher Miller   22.0  69.292890  159.386573  27.276284   \n",
              "42        Rodney Sandoval   87.0  95.678678  208.544348  21.999779   \n",
              "43        Amber Silva DDS   99.0  90.415702  178.647379  28.330260   \n",
              "44           Roger Rivera   31.0  99.564956  177.404957  31.635522   \n",
              "45          Justin Stokes   90.0  73.372195  176.829223  23.465155   \n",
              "46           Nicole Davis   75.0  72.089521  145.108457  34.236290   \n",
              "47       Gregory Williams   65.0  79.428071  170.213790  27.414765   \n",
              "48           Joseph Berry   78.0  62.020590  185.556370  18.012922   \n",
              "49             Maria Hall   63.0  95.280601  122.738083  63.247857   \n",
              "\n",
              "                                              address     latitude  \\\n",
              "0   266 Eric Square Suite 480\\nAcevedoborough, SC ...  -30.5992625   \n",
              "1   37406 Nicole Orchard Apt. 164\\nLake Patrick, T...    35.176805   \n",
              "2   2839 Phillips Estates Apt. 595\\nBowmanfurt, NY...  -29.0972255   \n",
              "3   22623 Fox Hollow Suite 288\\nMorenoburgh, VI 03046    87.253188   \n",
              "4   6076 Bennett Garden Apt. 880\\nEast Tiffanyfurt...    84.400140   \n",
              "5             8639 Miller Knolls\\nBryanstad, KY 72204   83.7982975   \n",
              "6     1063 Eric Trail Suite 948\\nEast Tracy, HI 56981   70.4444375   \n",
              "7         64183 Brian Dam\\nWest Justinmouth, TN 12269  -24.1775655   \n",
              "8           093 Cherry Island\\nSmithborough, MP 62616   76.3767645   \n",
              "9             18114 James Green\\nKatelynton, ME 34047    71.091695   \n",
              "10     489 Susan Wall Apt. 411\\nWilsonmouth, GA 09851   -46.281059   \n",
              "11   7379 Adam Shoals Apt. 569\\nJonathanton, WA 54845    -4.825314   \n",
              "12  862 Jose Highway Apt. 255\\nNorth Jasonland, PW...  -47.4065655   \n",
              "13  68479 Joe Trafficway Suite 672\\nPort Joseph, M...  -30.2420805   \n",
              "14             30835 Jeff Crest\\nTerrymouth, KS 12599   -10.938086   \n",
              "15  33297 Rollins Point Suite 425\\nKempstad, VA 21257  -44.5230325   \n",
              "16           14091 Sean Summit\\nNataliebury, RI 25038    12.112119   \n",
              "17  53357 Barnett Parkways Suite 491\\nRobertmouth,...   -24.014096   \n",
              "18         35943 Angela Station\\nLake Linda, IN 93259  -23.0846895   \n",
              "19  911 Leslie Circles Apt. 774\\nLake Jeffreytown,...   48.5729015   \n",
              "20  48115 Douglas Mall Apt. 288\\nBrandontown, ME 7...  -34.9630885   \n",
              "21          6487 Henry Falls\\nNorth Michael, WA 85660   -10.257924   \n",
              "22  53923 Henry Dale Suite 254\\nLake Jeffreyville,...    29.569607   \n",
              "23  626 White Squares Suite 265\\nChristineland, WV...  -64.0030015   \n",
              "24           0636 Henson Run\\nNew Kiarafort, WI 32739  -52.2143895   \n",
              "25  22016 Farmer Plains Suite 779\\nWest Rubenburgh...  -66.9429955   \n",
              "26            588 Bailey Forge\\nBullockland, VI 90494    51.166116   \n",
              "27      49614 Brian Walk\\nEast Veronicaview, DC 59927   -44.077630   \n",
              "28       3194 Garcia Valleys\\nKimberlyville, FL 05554  -47.6976245   \n",
              "29  2327 Nicole Points Apt. 295\\nHansonfort, VA 51350  -41.8339255   \n",
              "30      07651 Jessica Haven\\nNorth Toddfurt, KY 30482    55.570481   \n",
              "31       0210 Denise Villages\\nEast Michael, CT 02640   -89.826880   \n",
              "32  31190 Cain Trafficway Apt. 397\\nNew Vanessa, M...   54.0606145   \n",
              "33  242 Chen Turnpike Suite 457\\nSouth Matthew, WV...    26.453179   \n",
              "34           416 Graham Views\\nLake Rebecca, CT 20990  -18.5220945   \n",
              "35  73302 Mcintosh Haven Suite 296\\nSwansonland, G...  -54.1876275   \n",
              "36  8649 Herring Fords Suite 237\\nWest Christineha...   -83.024217   \n",
              "37         42207 James Harbor\\nStacychester, GU 81415   -40.598697   \n",
              "38  2688 Holly Club Apt. 917\\nNorth Patrick, LA 59989   -54.639859   \n",
              "39  5761 Tanner Corners Suite 656\\nRichardsland, V...   -48.405584   \n",
              "40      89798 Mary Isle Apt. 549\\nLake Erik, AK 92403   32.2224725   \n",
              "41      6794 Davis Expressway\\nNorth Wesley, PW 11785   11.1442145   \n",
              "42  9279 Rachel Green Suite 745\\nGreenmouth, AL 43809  -23.9739645   \n",
              "43           384 Williams Branch\\nRogerfort, AK 93092  -26.1211665   \n",
              "44            5410 David Lake\\nSellersburgh, SD 69465  -43.8468795   \n",
              "45            76763 Medina Hill\\nLake David, MD 86602   35.1466385   \n",
              "46                   PSC 9665, Box 4302\\nAPO AE 01024  -75.0554865   \n",
              "47  52274 Paula Ports Apt. 958\\nNew Jasonland, MT ...    43.868346   \n",
              "48  9528 Juan Unions Suite 468\\nNorth Jeremy, NH 6...   -33.244755   \n",
              "49       4861 Butler Trace\\nEast Carlosside, WY 64404    7.5706375   \n",
              "\n",
              "      longitude  \n",
              "0    112.391410  \n",
              "1   -143.883271  \n",
              "2     78.133381  \n",
              "3    131.815012  \n",
              "4    -74.778631  \n",
              "5   -117.227554  \n",
              "6    -96.676179  \n",
              "7   -107.567128  \n",
              "8   -120.736960  \n",
              "9    173.524668  \n",
              "10  -155.438625  \n",
              "11  -138.903731  \n",
              "12    -3.866930  \n",
              "13  -107.429786  \n",
              "14   149.679213  \n",
              "15    -3.676804  \n",
              "16    -5.886670  \n",
              "17    65.777341  \n",
              "18  -118.357084  \n",
              "19   110.831413  \n",
              "20    78.555413  \n",
              "21   -54.837744  \n",
              "22  -124.431646  \n",
              "23  -138.849643  \n",
              "24   -56.869419  \n",
              "25  -173.792299  \n",
              "26    73.705983  \n",
              "27    34.551636  \n",
              "28   178.754293  \n",
              "29    69.582192  \n",
              "30    60.547200  \n",
              "31   -34.479409  \n",
              "32  -130.217000  \n",
              "33   131.287980  \n",
              "34  -162.587412  \n",
              "35  -147.877992  \n",
              "36    52.629123  \n",
              "37   -90.972528  \n",
              "38   155.782702  \n",
              "39  -138.446924  \n",
              "40    36.782996  \n",
              "41    39.061113  \n",
              "42  -100.012219  \n",
              "43   -47.134583  \n",
              "44   -30.048297  \n",
              "45   164.605003  \n",
              "46   -83.827301  \n",
              "47  -156.562548  \n",
              "48   -45.983276  \n",
              "49  -109.080440  "
            ]
          },
          "execution_count": 40,
          "metadata": {},
          "output_type": "execute_result"
        }
      ],
      "source": [
        "def input_data(n_rows):\n",
        "    data = pd.DataFrame()\n",
        "    for i in range(0, n_rows):\n",
        "        data.loc[i, 'name'] = fake.name()\n",
        "        data.loc[i, 'age'] = fake.random_int(18, 100)\n",
        "        data.loc[i, 'Weight'] = random.uniform(60, 100)\n",
        "        data.loc[i, 'height'] = rnd.normal(180, 15.5)\n",
        "        data.loc[i, 'bmi'] = data.loc[i, 'Weight'] / ((data.loc[i, 'height'] / 100) ** 2)\n",
        "        data.loc[i, 'address'] = fake.address()\n",
        "        data.loc[i, 'latitude'] = str(fake.latitude())\n",
        "        data.loc[i, 'longitude'] = str(fake.longitude())\n",
        "    return data\n",
        "\n",
        "input_data(50)"
      ]
    }
  ],
  "metadata": {
    "colab": {
      "provenance": []
    },
    "kernelspec": {
      "display_name": "Python 3",
      "language": "python",
      "name": "python3"
    },
    "language_info": {
      "codemirror_mode": {
        "name": "ipython",
        "version": 3
      },
      "file_extension": ".py",
      "mimetype": "text/x-python",
      "name": "python",
      "nbconvert_exporter": "python",
      "pygments_lexer": "ipython3",
      "version": "3.13.0"
    }
  },
  "nbformat": 4,
  "nbformat_minor": 0
}
